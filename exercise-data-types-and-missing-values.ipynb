{
 "cells": [
  {
   "cell_type": "markdown",
   "id": "11123e5e",
   "metadata": {
    "papermill": {
     "duration": 0.013466,
     "end_time": "2022-05-01T16:51:37.182559",
     "exception": false,
     "start_time": "2022-05-01T16:51:37.169093",
     "status": "completed"
    },
    "tags": []
   },
   "source": [
    "**This notebook is an exercise in the [Pandas](https://www.kaggle.com/learn/pandas) course.  You can reference the tutorial at [this link](https://www.kaggle.com/residentmario/data-types-and-missing-values).**\n",
    "\n",
    "---\n"
   ]
  },
  {
   "cell_type": "markdown",
   "id": "59f9e567",
   "metadata": {
    "papermill": {
     "duration": 0.011097,
     "end_time": "2022-05-01T16:51:37.205166",
     "exception": false,
     "start_time": "2022-05-01T16:51:37.194069",
     "status": "completed"
    },
    "tags": []
   },
   "source": [
    "# Introduction\n",
    "\n",
    "Run the following cell to load your data and some utility functions."
   ]
  },
  {
   "cell_type": "code",
   "execution_count": 1,
   "id": "f0a6d454",
   "metadata": {
    "execution": {
     "iopub.execute_input": "2022-05-01T16:51:37.229808Z",
     "iopub.status.busy": "2022-05-01T16:51:37.229017Z",
     "iopub.status.idle": "2022-05-01T16:51:40.044408Z",
     "shell.execute_reply": "2022-05-01T16:51:40.043315Z"
    },
    "papermill": {
     "duration": 2.830899,
     "end_time": "2022-05-01T16:51:40.047331",
     "exception": false,
     "start_time": "2022-05-01T16:51:37.216432",
     "status": "completed"
    },
    "tags": []
   },
   "outputs": [
    {
     "name": "stdout",
     "output_type": "stream",
     "text": [
      "Setup complete.\n"
     ]
    }
   ],
   "source": [
    "import pandas as pd\n",
    "\n",
    "reviews = pd.read_csv(\"../input/wine-reviews/winemag-data-130k-v2.csv\", index_col=0)\n",
    "\n",
    "from learntools.core import binder; binder.bind(globals())\n",
    "from learntools.pandas.data_types_and_missing_data import *\n",
    "print(\"Setup complete.\")"
   ]
  },
  {
   "cell_type": "markdown",
   "id": "ad6fed3a",
   "metadata": {
    "papermill": {
     "duration": 0.011352,
     "end_time": "2022-05-01T16:51:40.070790",
     "exception": false,
     "start_time": "2022-05-01T16:51:40.059438",
     "status": "completed"
    },
    "tags": []
   },
   "source": [
    "# Exercises"
   ]
  },
  {
   "cell_type": "markdown",
   "id": "f006d9e7",
   "metadata": {
    "papermill": {
     "duration": 0.011377,
     "end_time": "2022-05-01T16:51:40.093894",
     "exception": false,
     "start_time": "2022-05-01T16:51:40.082517",
     "status": "completed"
    },
    "tags": []
   },
   "source": [
    "## 1. \n",
    "What is the data type of the `points` column in the dataset?"
   ]
  },
  {
   "cell_type": "code",
   "execution_count": 2,
   "id": "aac236e4",
   "metadata": {
    "execution": {
     "iopub.execute_input": "2022-05-01T16:51:40.118760Z",
     "iopub.status.busy": "2022-05-01T16:51:40.118468Z",
     "iopub.status.idle": "2022-05-01T16:51:40.128169Z",
     "shell.execute_reply": "2022-05-01T16:51:40.127345Z"
    },
    "papermill": {
     "duration": 0.024541,
     "end_time": "2022-05-01T16:51:40.130019",
     "exception": false,
     "start_time": "2022-05-01T16:51:40.105478",
     "status": "completed"
    },
    "tags": []
   },
   "outputs": [
    {
     "data": {
      "application/javascript": [
       "parent.postMessage({\"jupyterEvent\": \"custom.exercise_interaction\", \"data\": {\"outcomeType\": 1, \"valueTowardsCompletion\": 0.25, \"interactionType\": 1, \"questionType\": 1, \"questionId\": \"1_PointsDtype\", \"learnToolsVersion\": \"0.3.4\", \"failureMessage\": \"\", \"exceptionClass\": \"\", \"trace\": \"\"}}, \"*\")"
      ],
      "text/plain": [
       "<IPython.core.display.Javascript object>"
      ]
     },
     "metadata": {},
     "output_type": "display_data"
    },
    {
     "data": {
      "text/markdown": [
       "<span style=\"color:#33cc33\">Correct</span>"
      ],
      "text/plain": [
       "Correct"
      ]
     },
     "metadata": {},
     "output_type": "display_data"
    }
   ],
   "source": [
    "# Your code here\n",
    "dtype =reviews.points.dtype\n",
    "\n",
    "# Check your answer\n",
    "q1.check()"
   ]
  },
  {
   "cell_type": "code",
   "execution_count": 3,
   "id": "b6bd123b",
   "metadata": {
    "execution": {
     "iopub.execute_input": "2022-05-01T16:51:40.156549Z",
     "iopub.status.busy": "2022-05-01T16:51:40.156248Z",
     "iopub.status.idle": "2022-05-01T16:51:40.159681Z",
     "shell.execute_reply": "2022-05-01T16:51:40.158863Z"
    },
    "papermill": {
     "duration": 0.018979,
     "end_time": "2022-05-01T16:51:40.161603",
     "exception": false,
     "start_time": "2022-05-01T16:51:40.142624",
     "status": "completed"
    },
    "tags": []
   },
   "outputs": [],
   "source": [
    "#q1.hint()\n",
    "#q1.solution()"
   ]
  },
  {
   "cell_type": "markdown",
   "id": "5a8be034",
   "metadata": {
    "papermill": {
     "duration": 0.01234,
     "end_time": "2022-05-01T16:51:40.187153",
     "exception": false,
     "start_time": "2022-05-01T16:51:40.174813",
     "status": "completed"
    },
    "tags": []
   },
   "source": [
    "## 2. \n",
    "Create a Series from entries in the `points` column, but convert the entries to strings. Hint: strings are `str` in native Python."
   ]
  },
  {
   "cell_type": "code",
   "execution_count": 4,
   "id": "2dccfd3e",
   "metadata": {
    "execution": {
     "iopub.execute_input": "2022-05-01T16:51:40.213572Z",
     "iopub.status.busy": "2022-05-01T16:51:40.213268Z",
     "iopub.status.idle": "2022-05-01T16:51:40.292954Z",
     "shell.execute_reply": "2022-05-01T16:51:40.292154Z"
    },
    "papermill": {
     "duration": 0.095253,
     "end_time": "2022-05-01T16:51:40.294876",
     "exception": false,
     "start_time": "2022-05-01T16:51:40.199623",
     "status": "completed"
    },
    "tags": []
   },
   "outputs": [
    {
     "data": {
      "application/javascript": [
       "parent.postMessage({\"jupyterEvent\": \"custom.exercise_interaction\", \"data\": {\"outcomeType\": 1, \"valueTowardsCompletion\": 0.25, \"interactionType\": 1, \"questionType\": 1, \"questionId\": \"2_StrPoints\", \"learnToolsVersion\": \"0.3.4\", \"failureMessage\": \"\", \"exceptionClass\": \"\", \"trace\": \"\"}}, \"*\")"
      ],
      "text/plain": [
       "<IPython.core.display.Javascript object>"
      ]
     },
     "metadata": {},
     "output_type": "display_data"
    },
    {
     "data": {
      "text/markdown": [
       "<span style=\"color:#33cc33\">Correct</span>"
      ],
      "text/plain": [
       "Correct"
      ]
     },
     "metadata": {},
     "output_type": "display_data"
    }
   ],
   "source": [
    "point_strings = reviews.points.astype('str')\n",
    "\n",
    "# Check your answer\n",
    "q2.check()"
   ]
  },
  {
   "cell_type": "code",
   "execution_count": 5,
   "id": "da0d431a",
   "metadata": {
    "execution": {
     "iopub.execute_input": "2022-05-01T16:51:40.323887Z",
     "iopub.status.busy": "2022-05-01T16:51:40.323259Z",
     "iopub.status.idle": "2022-05-01T16:51:40.326413Z",
     "shell.execute_reply": "2022-05-01T16:51:40.325776Z"
    },
    "papermill": {
     "duration": 0.019673,
     "end_time": "2022-05-01T16:51:40.328207",
     "exception": false,
     "start_time": "2022-05-01T16:51:40.308534",
     "status": "completed"
    },
    "tags": []
   },
   "outputs": [],
   "source": [
    "#q2.hint()\n",
    "#q2.solution()"
   ]
  },
  {
   "cell_type": "markdown",
   "id": "cf2f4add",
   "metadata": {
    "papermill": {
     "duration": 0.013917,
     "end_time": "2022-05-01T16:51:40.356389",
     "exception": false,
     "start_time": "2022-05-01T16:51:40.342472",
     "status": "completed"
    },
    "tags": []
   },
   "source": [
    "## 3.\n",
    "Sometimes the price column is null. How many reviews in the dataset are missing a price?"
   ]
  },
  {
   "cell_type": "code",
   "execution_count": 6,
   "id": "5379141e",
   "metadata": {
    "execution": {
     "iopub.execute_input": "2022-05-01T16:51:40.385768Z",
     "iopub.status.busy": "2022-05-01T16:51:40.384850Z",
     "iopub.status.idle": "2022-05-01T16:51:40.392905Z",
     "shell.execute_reply": "2022-05-01T16:51:40.392334Z"
    },
    "papermill": {
     "duration": 0.024729,
     "end_time": "2022-05-01T16:51:40.394829",
     "exception": false,
     "start_time": "2022-05-01T16:51:40.370100",
     "status": "completed"
    },
    "tags": []
   },
   "outputs": [
    {
     "data": {
      "application/javascript": [
       "parent.postMessage({\"jupyterEvent\": \"custom.exercise_interaction\", \"data\": {\"outcomeType\": 1, \"valueTowardsCompletion\": 0.25, \"interactionType\": 1, \"questionType\": 1, \"questionId\": \"3_CountMissingPrices\", \"learnToolsVersion\": \"0.3.4\", \"failureMessage\": \"\", \"exceptionClass\": \"\", \"trace\": \"\"}}, \"*\")"
      ],
      "text/plain": [
       "<IPython.core.display.Javascript object>"
      ]
     },
     "metadata": {},
     "output_type": "display_data"
    },
    {
     "data": {
      "text/markdown": [
       "<span style=\"color:#33cc33\">Correct</span>"
      ],
      "text/plain": [
       "Correct"
      ]
     },
     "metadata": {},
     "output_type": "display_data"
    }
   ],
   "source": [
    "n_missing_prices = reviews.price.isnull().sum()\n",
    "\n",
    "# Check your answer\n",
    "q3.check()"
   ]
  },
  {
   "cell_type": "code",
   "execution_count": 7,
   "id": "4ae84b3d",
   "metadata": {
    "execution": {
     "iopub.execute_input": "2022-05-01T16:51:40.426165Z",
     "iopub.status.busy": "2022-05-01T16:51:40.425385Z",
     "iopub.status.idle": "2022-05-01T16:51:40.429502Z",
     "shell.execute_reply": "2022-05-01T16:51:40.428665Z"
    },
    "papermill": {
     "duration": 0.02247,
     "end_time": "2022-05-01T16:51:40.432088",
     "exception": false,
     "start_time": "2022-05-01T16:51:40.409618",
     "status": "completed"
    },
    "tags": []
   },
   "outputs": [],
   "source": [
    "#q3.hint()\n",
    "#q3.solution()"
   ]
  },
  {
   "cell_type": "markdown",
   "id": "c0fd4cfc",
   "metadata": {
    "papermill": {
     "duration": 0.015952,
     "end_time": "2022-05-01T16:51:40.462824",
     "exception": false,
     "start_time": "2022-05-01T16:51:40.446872",
     "status": "completed"
    },
    "tags": []
   },
   "source": [
    "## 4.\n",
    "What are the most common wine-producing regions? Create a Series counting the number of times each value occurs in the `region_1` field. This field is often missing data, so replace missing values with `Unknown`. Sort in descending order.  Your output should look something like this:\n",
    "\n",
    "```\n",
    "Unknown                    21247\n",
    "Napa Valley                 4480\n",
    "                           ...  \n",
    "Bardolino Superiore            1\n",
    "Primitivo del Tarantino        1\n",
    "Name: region_1, Length: 1230, dtype: int64\n",
    "```"
   ]
  },
  {
   "cell_type": "code",
   "execution_count": 8,
   "id": "6ce3f737",
   "metadata": {
    "execution": {
     "iopub.execute_input": "2022-05-01T16:51:40.495092Z",
     "iopub.status.busy": "2022-05-01T16:51:40.494654Z",
     "iopub.status.idle": "2022-05-01T16:51:40.534573Z",
     "shell.execute_reply": "2022-05-01T16:51:40.533806Z"
    },
    "papermill": {
     "duration": 0.05884,
     "end_time": "2022-05-01T16:51:40.536629",
     "exception": false,
     "start_time": "2022-05-01T16:51:40.477789",
     "status": "completed"
    },
    "tags": []
   },
   "outputs": [
    {
     "data": {
      "application/javascript": [
       "parent.postMessage({\"jupyterEvent\": \"custom.exercise_interaction\", \"data\": {\"outcomeType\": 1, \"valueTowardsCompletion\": 0.25, \"interactionType\": 1, \"questionType\": 2, \"questionId\": \"4_ReviewsPerRegion\", \"learnToolsVersion\": \"0.3.4\", \"failureMessage\": \"\", \"exceptionClass\": \"\", \"trace\": \"\"}}, \"*\")"
      ],
      "text/plain": [
       "<IPython.core.display.Javascript object>"
      ]
     },
     "metadata": {},
     "output_type": "display_data"
    },
    {
     "data": {
      "text/markdown": [
       "<span style=\"color:#33cc33\">Correct</span>"
      ],
      "text/plain": [
       "Correct"
      ]
     },
     "metadata": {},
     "output_type": "display_data"
    }
   ],
   "source": [
    "reviews_per_region = reviews.region_1.fillna(\"Unknown\").value_counts().sort_values(ascending=False)\n",
    "\n",
    "# Check your answer\n",
    "q4.check()"
   ]
  },
  {
   "cell_type": "code",
   "execution_count": 9,
   "id": "9e6ddb0f",
   "metadata": {
    "execution": {
     "iopub.execute_input": "2022-05-01T16:51:40.569834Z",
     "iopub.status.busy": "2022-05-01T16:51:40.569188Z",
     "iopub.status.idle": "2022-05-01T16:51:40.573540Z",
     "shell.execute_reply": "2022-05-01T16:51:40.572628Z"
    },
    "papermill": {
     "duration": 0.023324,
     "end_time": "2022-05-01T16:51:40.575736",
     "exception": false,
     "start_time": "2022-05-01T16:51:40.552412",
     "status": "completed"
    },
    "tags": []
   },
   "outputs": [],
   "source": [
    "#q4.hint()\n",
    "#q4.solution()"
   ]
  },
  {
   "cell_type": "markdown",
   "id": "1e293a23",
   "metadata": {
    "papermill": {
     "duration": 0.015306,
     "end_time": "2022-05-01T16:51:40.606900",
     "exception": false,
     "start_time": "2022-05-01T16:51:40.591594",
     "status": "completed"
    },
    "tags": []
   },
   "source": [
    "# Keep going\n",
    "\n",
    "Move on to **[renaming and combining](https://www.kaggle.com/residentmario/renaming-and-combining)**."
   ]
  },
  {
   "cell_type": "markdown",
   "id": "23dfc99f",
   "metadata": {
    "papermill": {
     "duration": 0.015201,
     "end_time": "2022-05-01T16:51:40.637785",
     "exception": false,
     "start_time": "2022-05-01T16:51:40.622584",
     "status": "completed"
    },
    "tags": []
   },
   "source": [
    "---\n",
    "\n",
    "\n",
    "\n",
    "\n",
    "*Have questions or comments? Visit the [course discussion forum](https://www.kaggle.com/learn/pandas/discussion) to chat with other learners.*"
   ]
  }
 ],
 "metadata": {
  "kernelspec": {
   "display_name": "Python 3",
   "language": "python",
   "name": "python3"
  },
  "language_info": {
   "codemirror_mode": {
    "name": "ipython",
    "version": 3
   },
   "file_extension": ".py",
   "mimetype": "text/x-python",
   "name": "python",
   "nbconvert_exporter": "python",
   "pygments_lexer": "ipython3",
   "version": "3.7.12"
  },
  "papermill": {
   "default_parameters": {},
   "duration": 13.106246,
   "end_time": "2022-05-01T16:51:41.375217",
   "environment_variables": {},
   "exception": null,
   "input_path": "__notebook__.ipynb",
   "output_path": "__notebook__.ipynb",
   "parameters": {},
   "start_time": "2022-05-01T16:51:28.268971",
   "version": "2.3.4"
  }
 },
 "nbformat": 4,
 "nbformat_minor": 5
}
