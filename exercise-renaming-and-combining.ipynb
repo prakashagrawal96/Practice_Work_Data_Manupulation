{
 "cells": [
  {
   "cell_type": "markdown",
   "id": "b0b922d0",
   "metadata": {
    "papermill": {
     "duration": 0.020781,
     "end_time": "2022-05-01T17:10:27.230398",
     "exception": false,
     "start_time": "2022-05-01T17:10:27.209617",
     "status": "completed"
    },
    "tags": []
   },
   "source": [
    "**This notebook is an exercise in the [Pandas](https://www.kaggle.com/learn/pandas) course.  You can reference the tutorial at [this link](https://www.kaggle.com/residentmario/renaming-and-combining).**\n",
    "\n",
    "---\n"
   ]
  },
  {
   "cell_type": "markdown",
   "id": "ac3ccb1e",
   "metadata": {
    "papermill": {
     "duration": 0.018561,
     "end_time": "2022-05-01T17:10:27.268512",
     "exception": false,
     "start_time": "2022-05-01T17:10:27.249951",
     "status": "completed"
    },
    "tags": []
   },
   "source": [
    "# Introduction\n",
    "\n",
    "Run the following cell to load your data and some utility functions."
   ]
  },
  {
   "cell_type": "code",
   "execution_count": 1,
   "id": "5b83deb9",
   "metadata": {
    "execution": {
     "iopub.execute_input": "2022-05-01T17:10:27.308728Z",
     "iopub.status.busy": "2022-05-01T17:10:27.308386Z",
     "iopub.status.idle": "2022-05-01T17:10:31.277399Z",
     "shell.execute_reply": "2022-05-01T17:10:31.276331Z"
    },
    "papermill": {
     "duration": 3.99225,
     "end_time": "2022-05-01T17:10:31.280101",
     "exception": false,
     "start_time": "2022-05-01T17:10:27.287851",
     "status": "completed"
    },
    "tags": []
   },
   "outputs": [
    {
     "name": "stdout",
     "output_type": "stream",
     "text": [
      "Setup complete.\n"
     ]
    }
   ],
   "source": [
    "import pandas as pd\n",
    "\n",
    "reviews = pd.read_csv(\"../input/wine-reviews/winemag-data-130k-v2.csv\", index_col=0)\n",
    "\n",
    "from learntools.core import binder; binder.bind(globals())\n",
    "from learntools.pandas.renaming_and_combining import *\n",
    "print(\"Setup complete.\")"
   ]
  },
  {
   "cell_type": "markdown",
   "id": "413cc1ba",
   "metadata": {
    "papermill": {
     "duration": 0.018952,
     "end_time": "2022-05-01T17:10:31.318946",
     "exception": false,
     "start_time": "2022-05-01T17:10:31.299994",
     "status": "completed"
    },
    "tags": []
   },
   "source": [
    "# Exercises\n",
    "\n",
    "View the first several lines of your data by running the cell below:"
   ]
  },
  {
   "cell_type": "code",
   "execution_count": 2,
   "id": "4e28e464",
   "metadata": {
    "execution": {
     "iopub.execute_input": "2022-05-01T17:10:31.359026Z",
     "iopub.status.busy": "2022-05-01T17:10:31.358749Z",
     "iopub.status.idle": "2022-05-01T17:10:31.382598Z",
     "shell.execute_reply": "2022-05-01T17:10:31.381740Z"
    },
    "papermill": {
     "duration": 0.047148,
     "end_time": "2022-05-01T17:10:31.385305",
     "exception": false,
     "start_time": "2022-05-01T17:10:31.338157",
     "status": "completed"
    },
    "tags": []
   },
   "outputs": [
    {
     "data": {
      "text/html": [
       "<div>\n",
       "<style scoped>\n",
       "    .dataframe tbody tr th:only-of-type {\n",
       "        vertical-align: middle;\n",
       "    }\n",
       "\n",
       "    .dataframe tbody tr th {\n",
       "        vertical-align: top;\n",
       "    }\n",
       "\n",
       "    .dataframe thead th {\n",
       "        text-align: right;\n",
       "    }\n",
       "</style>\n",
       "<table border=\"1\" class=\"dataframe\">\n",
       "  <thead>\n",
       "    <tr style=\"text-align: right;\">\n",
       "      <th></th>\n",
       "      <th>country</th>\n",
       "      <th>description</th>\n",
       "      <th>designation</th>\n",
       "      <th>points</th>\n",
       "      <th>price</th>\n",
       "      <th>province</th>\n",
       "      <th>region_1</th>\n",
       "      <th>region_2</th>\n",
       "      <th>taster_name</th>\n",
       "      <th>taster_twitter_handle</th>\n",
       "      <th>title</th>\n",
       "      <th>variety</th>\n",
       "      <th>winery</th>\n",
       "    </tr>\n",
       "  </thead>\n",
       "  <tbody>\n",
       "    <tr>\n",
       "      <th>0</th>\n",
       "      <td>Italy</td>\n",
       "      <td>Aromas include tropical fruit, broom, brimston...</td>\n",
       "      <td>Vulkà Bianco</td>\n",
       "      <td>87</td>\n",
       "      <td>NaN</td>\n",
       "      <td>Sicily &amp; Sardinia</td>\n",
       "      <td>Etna</td>\n",
       "      <td>NaN</td>\n",
       "      <td>Kerin O’Keefe</td>\n",
       "      <td>@kerinokeefe</td>\n",
       "      <td>Nicosia 2013 Vulkà Bianco  (Etna)</td>\n",
       "      <td>White Blend</td>\n",
       "      <td>Nicosia</td>\n",
       "    </tr>\n",
       "    <tr>\n",
       "      <th>1</th>\n",
       "      <td>Portugal</td>\n",
       "      <td>This is ripe and fruity, a wine that is smooth...</td>\n",
       "      <td>Avidagos</td>\n",
       "      <td>87</td>\n",
       "      <td>15.0</td>\n",
       "      <td>Douro</td>\n",
       "      <td>NaN</td>\n",
       "      <td>NaN</td>\n",
       "      <td>Roger Voss</td>\n",
       "      <td>@vossroger</td>\n",
       "      <td>Quinta dos Avidagos 2011 Avidagos Red (Douro)</td>\n",
       "      <td>Portuguese Red</td>\n",
       "      <td>Quinta dos Avidagos</td>\n",
       "    </tr>\n",
       "    <tr>\n",
       "      <th>2</th>\n",
       "      <td>US</td>\n",
       "      <td>Tart and snappy, the flavors of lime flesh and...</td>\n",
       "      <td>NaN</td>\n",
       "      <td>87</td>\n",
       "      <td>14.0</td>\n",
       "      <td>Oregon</td>\n",
       "      <td>Willamette Valley</td>\n",
       "      <td>Willamette Valley</td>\n",
       "      <td>Paul Gregutt</td>\n",
       "      <td>@paulgwine</td>\n",
       "      <td>Rainstorm 2013 Pinot Gris (Willamette Valley)</td>\n",
       "      <td>Pinot Gris</td>\n",
       "      <td>Rainstorm</td>\n",
       "    </tr>\n",
       "    <tr>\n",
       "      <th>3</th>\n",
       "      <td>US</td>\n",
       "      <td>Pineapple rind, lemon pith and orange blossom ...</td>\n",
       "      <td>Reserve Late Harvest</td>\n",
       "      <td>87</td>\n",
       "      <td>13.0</td>\n",
       "      <td>Michigan</td>\n",
       "      <td>Lake Michigan Shore</td>\n",
       "      <td>NaN</td>\n",
       "      <td>Alexander Peartree</td>\n",
       "      <td>NaN</td>\n",
       "      <td>St. Julian 2013 Reserve Late Harvest Riesling ...</td>\n",
       "      <td>Riesling</td>\n",
       "      <td>St. Julian</td>\n",
       "    </tr>\n",
       "    <tr>\n",
       "      <th>4</th>\n",
       "      <td>US</td>\n",
       "      <td>Much like the regular bottling from 2012, this...</td>\n",
       "      <td>Vintner's Reserve Wild Child Block</td>\n",
       "      <td>87</td>\n",
       "      <td>65.0</td>\n",
       "      <td>Oregon</td>\n",
       "      <td>Willamette Valley</td>\n",
       "      <td>Willamette Valley</td>\n",
       "      <td>Paul Gregutt</td>\n",
       "      <td>@paulgwine</td>\n",
       "      <td>Sweet Cheeks 2012 Vintner's Reserve Wild Child...</td>\n",
       "      <td>Pinot Noir</td>\n",
       "      <td>Sweet Cheeks</td>\n",
       "    </tr>\n",
       "  </tbody>\n",
       "</table>\n",
       "</div>"
      ],
      "text/plain": [
       "    country                                        description  \\\n",
       "0     Italy  Aromas include tropical fruit, broom, brimston...   \n",
       "1  Portugal  This is ripe and fruity, a wine that is smooth...   \n",
       "2        US  Tart and snappy, the flavors of lime flesh and...   \n",
       "3        US  Pineapple rind, lemon pith and orange blossom ...   \n",
       "4        US  Much like the regular bottling from 2012, this...   \n",
       "\n",
       "                          designation  points  price           province  \\\n",
       "0                        Vulkà Bianco      87    NaN  Sicily & Sardinia   \n",
       "1                            Avidagos      87   15.0              Douro   \n",
       "2                                 NaN      87   14.0             Oregon   \n",
       "3                Reserve Late Harvest      87   13.0           Michigan   \n",
       "4  Vintner's Reserve Wild Child Block      87   65.0             Oregon   \n",
       "\n",
       "              region_1           region_2         taster_name  \\\n",
       "0                 Etna                NaN       Kerin O’Keefe   \n",
       "1                  NaN                NaN          Roger Voss   \n",
       "2    Willamette Valley  Willamette Valley        Paul Gregutt   \n",
       "3  Lake Michigan Shore                NaN  Alexander Peartree   \n",
       "4    Willamette Valley  Willamette Valley        Paul Gregutt   \n",
       "\n",
       "  taster_twitter_handle                                              title  \\\n",
       "0          @kerinokeefe                  Nicosia 2013 Vulkà Bianco  (Etna)   \n",
       "1            @vossroger      Quinta dos Avidagos 2011 Avidagos Red (Douro)   \n",
       "2           @paulgwine       Rainstorm 2013 Pinot Gris (Willamette Valley)   \n",
       "3                   NaN  St. Julian 2013 Reserve Late Harvest Riesling ...   \n",
       "4           @paulgwine   Sweet Cheeks 2012 Vintner's Reserve Wild Child...   \n",
       "\n",
       "          variety               winery  \n",
       "0     White Blend              Nicosia  \n",
       "1  Portuguese Red  Quinta dos Avidagos  \n",
       "2      Pinot Gris            Rainstorm  \n",
       "3        Riesling           St. Julian  \n",
       "4      Pinot Noir         Sweet Cheeks  "
      ]
     },
     "execution_count": 2,
     "metadata": {},
     "output_type": "execute_result"
    }
   ],
   "source": [
    "reviews.head()"
   ]
  },
  {
   "cell_type": "markdown",
   "id": "f49342a6",
   "metadata": {
    "papermill": {
     "duration": 0.019552,
     "end_time": "2022-05-01T17:10:31.424668",
     "exception": false,
     "start_time": "2022-05-01T17:10:31.405116",
     "status": "completed"
    },
    "tags": []
   },
   "source": [
    "## 1.\n",
    "`region_1` and `region_2` are pretty uninformative names for locale columns in the dataset. Create a copy of `reviews` with these columns renamed to `region` and `locale`, respectively."
   ]
  },
  {
   "cell_type": "code",
   "execution_count": 3,
   "id": "4bfd9f43",
   "metadata": {
    "execution": {
     "iopub.execute_input": "2022-05-01T17:10:31.466317Z",
     "iopub.status.busy": "2022-05-01T17:10:31.465549Z",
     "iopub.status.idle": "2022-05-01T17:10:31.498010Z",
     "shell.execute_reply": "2022-05-01T17:10:31.497122Z"
    },
    "papermill": {
     "duration": 0.055522,
     "end_time": "2022-05-01T17:10:31.500131",
     "exception": false,
     "start_time": "2022-05-01T17:10:31.444609",
     "status": "completed"
    },
    "tags": []
   },
   "outputs": [
    {
     "data": {
      "application/javascript": [
       "parent.postMessage({\"jupyterEvent\": \"custom.exercise_interaction\", \"data\": {\"outcomeType\": 1, \"valueTowardsCompletion\": 0.25, \"interactionType\": 1, \"questionType\": 1, \"questionId\": \"1_RenameCols\", \"learnToolsVersion\": \"0.3.4\", \"failureMessage\": \"\", \"exceptionClass\": \"\", \"trace\": \"\"}}, \"*\")"
      ],
      "text/plain": [
       "<IPython.core.display.Javascript object>"
      ]
     },
     "metadata": {},
     "output_type": "display_data"
    },
    {
     "data": {
      "text/markdown": [
       "<span style=\"color:#33cc33\">Correct</span>"
      ],
      "text/plain": [
       "Correct"
      ]
     },
     "metadata": {},
     "output_type": "display_data"
    }
   ],
   "source": [
    "# Your code here\n",
    "renamed = reviews.rename(columns={'region_1':'region','region_2':'locale'})\n",
    "\n",
    "# Check your answer\n",
    "q1.check()"
   ]
  },
  {
   "cell_type": "code",
   "execution_count": 4,
   "id": "f7f44759",
   "metadata": {
    "execution": {
     "iopub.execute_input": "2022-05-01T17:10:31.543908Z",
     "iopub.status.busy": "2022-05-01T17:10:31.543372Z",
     "iopub.status.idle": "2022-05-01T17:10:31.546919Z",
     "shell.execute_reply": "2022-05-01T17:10:31.546251Z"
    },
    "papermill": {
     "duration": 0.027783,
     "end_time": "2022-05-01T17:10:31.548898",
     "exception": false,
     "start_time": "2022-05-01T17:10:31.521115",
     "status": "completed"
    },
    "tags": []
   },
   "outputs": [],
   "source": [
    "#q1.hint()\n",
    "#q1.solution()"
   ]
  },
  {
   "cell_type": "markdown",
   "id": "54b99b3a",
   "metadata": {
    "papermill": {
     "duration": 0.02285,
     "end_time": "2022-05-01T17:10:31.593177",
     "exception": false,
     "start_time": "2022-05-01T17:10:31.570327",
     "status": "completed"
    },
    "tags": []
   },
   "source": [
    "## 2.\n",
    "Set the index name in the dataset to `wines`."
   ]
  },
  {
   "cell_type": "code",
   "execution_count": 5,
   "id": "d5436a2f",
   "metadata": {
    "execution": {
     "iopub.execute_input": "2022-05-01T17:10:31.637828Z",
     "iopub.status.busy": "2022-05-01T17:10:31.637407Z",
     "iopub.status.idle": "2022-05-01T17:10:31.669746Z",
     "shell.execute_reply": "2022-05-01T17:10:31.668935Z"
    },
    "papermill": {
     "duration": 0.057017,
     "end_time": "2022-05-01T17:10:31.671658",
     "exception": false,
     "start_time": "2022-05-01T17:10:31.614641",
     "status": "completed"
    },
    "tags": []
   },
   "outputs": [
    {
     "data": {
      "application/javascript": [
       "parent.postMessage({\"jupyterEvent\": \"custom.exercise_interaction\", \"data\": {\"outcomeType\": 1, \"valueTowardsCompletion\": 0.25, \"interactionType\": 1, \"questionType\": 1, \"questionId\": \"2_RenameIndex\", \"learnToolsVersion\": \"0.3.4\", \"failureMessage\": \"\", \"exceptionClass\": \"\", \"trace\": \"\"}}, \"*\")"
      ],
      "text/plain": [
       "<IPython.core.display.Javascript object>"
      ]
     },
     "metadata": {},
     "output_type": "display_data"
    },
    {
     "data": {
      "text/markdown": [
       "<span style=\"color:#33cc33\">Correct</span>"
      ],
      "text/plain": [
       "Correct"
      ]
     },
     "metadata": {},
     "output_type": "display_data"
    }
   ],
   "source": [
    "reindexed = reviews.rename_axis(\"wines\",axis='rows')\n",
    "\n",
    "# Check your answer\n",
    "q2.check()"
   ]
  },
  {
   "cell_type": "code",
   "execution_count": 6,
   "id": "42d79348",
   "metadata": {
    "execution": {
     "iopub.execute_input": "2022-05-01T17:10:31.718360Z",
     "iopub.status.busy": "2022-05-01T17:10:31.717926Z",
     "iopub.status.idle": "2022-05-01T17:10:31.721165Z",
     "shell.execute_reply": "2022-05-01T17:10:31.720596Z"
    },
    "papermill": {
     "duration": 0.029058,
     "end_time": "2022-05-01T17:10:31.723101",
     "exception": false,
     "start_time": "2022-05-01T17:10:31.694043",
     "status": "completed"
    },
    "tags": []
   },
   "outputs": [],
   "source": [
    "#q2.hint()\n",
    "#q2.solution()"
   ]
  },
  {
   "cell_type": "markdown",
   "id": "cc9991e2",
   "metadata": {
    "papermill": {
     "duration": 0.022293,
     "end_time": "2022-05-01T17:10:31.768083",
     "exception": false,
     "start_time": "2022-05-01T17:10:31.745790",
     "status": "completed"
    },
    "tags": []
   },
   "source": [
    "## 3.\n",
    "The [Things on Reddit](https://www.kaggle.com/residentmario/things-on-reddit/data) dataset includes product links from a selection of top-ranked forums (\"subreddits\") on reddit.com. Run the cell below to load a dataframe of products mentioned on the */r/gaming* subreddit and another dataframe for products mentioned on the *r//movies* subreddit."
   ]
  },
  {
   "cell_type": "code",
   "execution_count": 7,
   "id": "54713aa5",
   "metadata": {
    "execution": {
     "iopub.execute_input": "2022-05-01T17:10:31.815144Z",
     "iopub.status.busy": "2022-05-01T17:10:31.814740Z",
     "iopub.status.idle": "2022-05-01T17:10:31.829089Z",
     "shell.execute_reply": "2022-05-01T17:10:31.828360Z"
    },
    "papermill": {
     "duration": 0.040385,
     "end_time": "2022-05-01T17:10:31.831222",
     "exception": false,
     "start_time": "2022-05-01T17:10:31.790837",
     "status": "completed"
    },
    "tags": []
   },
   "outputs": [],
   "source": [
    "gaming_products = pd.read_csv(\"../input/things-on-reddit/top-things/top-things/reddits/g/gaming.csv\")\n",
    "gaming_products['subreddit'] = \"r/gaming\"\n",
    "movie_products = pd.read_csv(\"../input/things-on-reddit/top-things/top-things/reddits/m/movies.csv\")\n",
    "movie_products['subreddit'] = \"r/movies\""
   ]
  },
  {
   "cell_type": "markdown",
   "id": "81a4f46e",
   "metadata": {
    "papermill": {
     "duration": 0.022293,
     "end_time": "2022-05-01T17:10:31.876428",
     "exception": false,
     "start_time": "2022-05-01T17:10:31.854135",
     "status": "completed"
    },
    "tags": []
   },
   "source": [
    "Create a `DataFrame` of products mentioned on *either* subreddit."
   ]
  },
  {
   "cell_type": "code",
   "execution_count": 8,
   "id": "8a9a28a0",
   "metadata": {
    "execution": {
     "iopub.execute_input": "2022-05-01T17:10:31.924226Z",
     "iopub.status.busy": "2022-05-01T17:10:31.923919Z",
     "iopub.status.idle": "2022-05-01T17:10:31.936546Z",
     "shell.execute_reply": "2022-05-01T17:10:31.935717Z"
    },
    "papermill": {
     "duration": 0.039372,
     "end_time": "2022-05-01T17:10:31.938426",
     "exception": false,
     "start_time": "2022-05-01T17:10:31.899054",
     "status": "completed"
    },
    "tags": []
   },
   "outputs": [
    {
     "data": {
      "application/javascript": [
       "parent.postMessage({\"jupyterEvent\": \"custom.exercise_interaction\", \"data\": {\"outcomeType\": 1, \"valueTowardsCompletion\": 0.25, \"interactionType\": 1, \"questionType\": 2, \"questionId\": \"3_ConcatReddit\", \"learnToolsVersion\": \"0.3.4\", \"failureMessage\": \"\", \"exceptionClass\": \"\", \"trace\": \"\"}}, \"*\")"
      ],
      "text/plain": [
       "<IPython.core.display.Javascript object>"
      ]
     },
     "metadata": {},
     "output_type": "display_data"
    },
    {
     "data": {
      "text/markdown": [
       "<span style=\"color:#33cc33\">Correct</span>"
      ],
      "text/plain": [
       "Correct"
      ]
     },
     "metadata": {},
     "output_type": "display_data"
    }
   ],
   "source": [
    "combined_products = pd.concat([gaming_products,movie_products])\n",
    "\n",
    "# Check your answer\n",
    "q3.check()"
   ]
  },
  {
   "cell_type": "code",
   "execution_count": 9,
   "id": "83d9de8d",
   "metadata": {
    "execution": {
     "iopub.execute_input": "2022-05-01T17:10:31.988128Z",
     "iopub.status.busy": "2022-05-01T17:10:31.987612Z",
     "iopub.status.idle": "2022-05-01T17:10:31.990850Z",
     "shell.execute_reply": "2022-05-01T17:10:31.989993Z"
    },
    "papermill": {
     "duration": 0.030226,
     "end_time": "2022-05-01T17:10:31.992638",
     "exception": false,
     "start_time": "2022-05-01T17:10:31.962412",
     "status": "completed"
    },
    "tags": []
   },
   "outputs": [],
   "source": [
    "#q3.hint()\n",
    "#q3.solution()"
   ]
  },
  {
   "cell_type": "markdown",
   "id": "f54e7a71",
   "metadata": {
    "papermill": {
     "duration": 0.024871,
     "end_time": "2022-05-01T17:10:32.041638",
     "exception": false,
     "start_time": "2022-05-01T17:10:32.016767",
     "status": "completed"
    },
    "tags": []
   },
   "source": [
    "## 4.\n",
    "The [Powerlifting Database](https://www.kaggle.com/open-powerlifting/powerlifting-database) dataset on Kaggle includes one CSV table for powerlifting meets and a separate one for powerlifting competitors. Run the cell below to load these datasets into dataframes:"
   ]
  },
  {
   "cell_type": "code",
   "execution_count": 10,
   "id": "73a4693b",
   "metadata": {
    "execution": {
     "iopub.execute_input": "2022-05-01T17:10:32.091015Z",
     "iopub.status.busy": "2022-05-01T17:10:32.090704Z",
     "iopub.status.idle": "2022-05-01T17:10:32.915358Z",
     "shell.execute_reply": "2022-05-01T17:10:32.914391Z"
    },
    "papermill": {
     "duration": 0.852147,
     "end_time": "2022-05-01T17:10:32.917845",
     "exception": false,
     "start_time": "2022-05-01T17:10:32.065698",
     "status": "completed"
    },
    "tags": []
   },
   "outputs": [],
   "source": [
    "powerlifting_meets = pd.read_csv(\"../input/powerlifting-database/meets.csv\")\n",
    "powerlifting_competitors = pd.read_csv(\"../input/powerlifting-database/openpowerlifting.csv\")"
   ]
  },
  {
   "cell_type": "markdown",
   "id": "d93f07c0",
   "metadata": {
    "papermill": {
     "duration": 0.023878,
     "end_time": "2022-05-01T17:10:32.966381",
     "exception": false,
     "start_time": "2022-05-01T17:10:32.942503",
     "status": "completed"
    },
    "tags": []
   },
   "source": [
    "Both tables include references to a `MeetID`, a unique key for each meet (competition) included in the database. Using this, generate a dataset combining the two tables into one."
   ]
  },
  {
   "cell_type": "code",
   "execution_count": 11,
   "id": "2c41da4c",
   "metadata": {
    "execution": {
     "iopub.execute_input": "2022-05-01T17:10:33.017703Z",
     "iopub.status.busy": "2022-05-01T17:10:33.017169Z",
     "iopub.status.idle": "2022-05-01T17:10:34.031436Z",
     "shell.execute_reply": "2022-05-01T17:10:34.030610Z"
    },
    "papermill": {
     "duration": 1.043714,
     "end_time": "2022-05-01T17:10:34.034310",
     "exception": false,
     "start_time": "2022-05-01T17:10:32.990596",
     "status": "completed"
    },
    "tags": []
   },
   "outputs": [
    {
     "data": {
      "application/javascript": [
       "parent.postMessage({\"jupyterEvent\": \"custom.exercise_interaction\", \"data\": {\"outcomeType\": 1, \"valueTowardsCompletion\": 0.25, \"interactionType\": 1, \"questionType\": 2, \"questionId\": \"4_JoinLifting\", \"learnToolsVersion\": \"0.3.4\", \"failureMessage\": \"\", \"exceptionClass\": \"\", \"trace\": \"\"}}, \"*\")"
      ],
      "text/plain": [
       "<IPython.core.display.Javascript object>"
      ]
     },
     "metadata": {},
     "output_type": "display_data"
    },
    {
     "data": {
      "text/markdown": [
       "<span style=\"color:#33cc33\">Correct</span>"
      ],
      "text/plain": [
       "Correct"
      ]
     },
     "metadata": {},
     "output_type": "display_data"
    }
   ],
   "source": [
    "powerlifting_combined = powerlifting_meets.set_index(\"MeetID\").join(powerlifting_competitors.set_index(\"MeetID\"))\n",
    "\n",
    "# Check your answer\n",
    "q4.check()"
   ]
  },
  {
   "cell_type": "code",
   "execution_count": 12,
   "id": "ceee8852",
   "metadata": {
    "execution": {
     "iopub.execute_input": "2022-05-01T17:10:34.087707Z",
     "iopub.status.busy": "2022-05-01T17:10:34.087083Z",
     "iopub.status.idle": "2022-05-01T17:10:34.090574Z",
     "shell.execute_reply": "2022-05-01T17:10:34.089853Z"
    },
    "papermill": {
     "duration": 0.031644,
     "end_time": "2022-05-01T17:10:34.092332",
     "exception": false,
     "start_time": "2022-05-01T17:10:34.060688",
     "status": "completed"
    },
    "tags": []
   },
   "outputs": [],
   "source": [
    "#q4.hint()\n",
    "#q4.solution()"
   ]
  },
  {
   "cell_type": "markdown",
   "id": "4a793019",
   "metadata": {
    "papermill": {
     "duration": 0.024756,
     "end_time": "2022-05-01T17:10:34.142330",
     "exception": false,
     "start_time": "2022-05-01T17:10:34.117574",
     "status": "completed"
    },
    "tags": []
   },
   "source": [
    "# Congratulations!\n",
    "\n",
    "You've finished the Pandas micro-course.  Many data scientists feel efficiency with Pandas is the most useful and practical skill they have, because it allows you to progress quickly in any project you have.\n",
    "\n",
    "If you'd like to apply your new skills to examining geospatial data, you're encouraged to check out our **[Geospatial Analysis](https://www.kaggle.com/learn/geospatial-analysis)** micro-course.\n",
    "\n",
    "You can also take advantage of your Pandas skills by entering a **[Kaggle Competition](https://www.kaggle.com/competitions)** or by answering a question you find interesting using **[Kaggle Datasets](https://www.kaggle.com/datasets)**."
   ]
  },
  {
   "cell_type": "markdown",
   "id": "1cdd406f",
   "metadata": {
    "papermill": {
     "duration": 0.024617,
     "end_time": "2022-05-01T17:10:34.191954",
     "exception": false,
     "start_time": "2022-05-01T17:10:34.167337",
     "status": "completed"
    },
    "tags": []
   },
   "source": [
    "---\n",
    "\n",
    "\n",
    "\n",
    "\n",
    "*Have questions or comments? Visit the [course discussion forum](https://www.kaggle.com/learn/pandas/discussion) to chat with other learners.*"
   ]
  }
 ],
 "metadata": {
  "kernelspec": {
   "display_name": "Python 3",
   "language": "python",
   "name": "python3"
  },
  "language_info": {
   "codemirror_mode": {
    "name": "ipython",
    "version": 3
   },
   "file_extension": ".py",
   "mimetype": "text/x-python",
   "name": "python",
   "nbconvert_exporter": "python",
   "pygments_lexer": "ipython3",
   "version": "3.7.12"
  },
  "papermill": {
   "default_parameters": {},
   "duration": 17.470223,
   "end_time": "2022-05-01T17:10:34.937809",
   "environment_variables": {},
   "exception": null,
   "input_path": "__notebook__.ipynb",
   "output_path": "__notebook__.ipynb",
   "parameters": {},
   "start_time": "2022-05-01T17:10:17.467586",
   "version": "2.3.4"
  }
 },
 "nbformat": 4,
 "nbformat_minor": 5
}
