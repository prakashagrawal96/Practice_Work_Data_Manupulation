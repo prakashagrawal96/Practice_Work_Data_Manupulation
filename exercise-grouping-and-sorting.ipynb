{
 "cells": [
  {
   "cell_type": "markdown",
   "id": "f68c45ed",
   "metadata": {
    "papermill": {
     "duration": 0.024003,
     "end_time": "2022-05-01T16:31:46.801286",
     "exception": false,
     "start_time": "2022-05-01T16:31:46.777283",
     "status": "completed"
    },
    "tags": []
   },
   "source": [
    "**This notebook is an exercise in the [Pandas](https://www.kaggle.com/learn/pandas) course.  You can reference the tutorial at [this link](https://www.kaggle.com/residentmario/grouping-and-sorting).**\n",
    "\n",
    "---\n"
   ]
  },
  {
   "cell_type": "markdown",
   "id": "81f41799",
   "metadata": {
    "papermill": {
     "duration": 0.02263,
     "end_time": "2022-05-01T16:31:46.846402",
     "exception": false,
     "start_time": "2022-05-01T16:31:46.823772",
     "status": "completed"
    },
    "tags": []
   },
   "source": [
    "# Introduction\n",
    "\n",
    "In these exercises we'll apply groupwise analysis to our dataset.\n",
    "\n",
    "Run the code cell below to load the data before running the exercises."
   ]
  },
  {
   "cell_type": "code",
   "execution_count": 1,
   "id": "5e294ca1",
   "metadata": {
    "execution": {
     "iopub.execute_input": "2022-05-01T16:31:46.893992Z",
     "iopub.status.busy": "2022-05-01T16:31:46.893215Z",
     "iopub.status.idle": "2022-05-01T16:31:50.259796Z",
     "shell.execute_reply": "2022-05-01T16:31:50.258844Z"
    },
    "papermill": {
     "duration": 3.394507,
     "end_time": "2022-05-01T16:31:50.263397",
     "exception": false,
     "start_time": "2022-05-01T16:31:46.868890",
     "status": "completed"
    },
    "tags": []
   },
   "outputs": [
    {
     "name": "stdout",
     "output_type": "stream",
     "text": [
      "Setup complete.\n"
     ]
    }
   ],
   "source": [
    "import pandas as pd\n",
    "\n",
    "reviews = pd.read_csv(\"../input/wine-reviews/winemag-data-130k-v2.csv\", index_col=0)\n",
    "#pd.set_option(\"display.max_rows\", 5)\n",
    "\n",
    "from learntools.core import binder; binder.bind(globals())\n",
    "from learntools.pandas.grouping_and_sorting import *\n",
    "print(\"Setup complete.\")"
   ]
  },
  {
   "cell_type": "markdown",
   "id": "6ab343bb",
   "metadata": {
    "papermill": {
     "duration": 0.022695,
     "end_time": "2022-05-01T16:31:50.312525",
     "exception": false,
     "start_time": "2022-05-01T16:31:50.289830",
     "status": "completed"
    },
    "tags": []
   },
   "source": [
    "# Exercises"
   ]
  },
  {
   "cell_type": "markdown",
   "id": "dcbed970",
   "metadata": {
    "papermill": {
     "duration": 0.023195,
     "end_time": "2022-05-01T16:31:50.359633",
     "exception": false,
     "start_time": "2022-05-01T16:31:50.336438",
     "status": "completed"
    },
    "tags": []
   },
   "source": [
    "## 1.\n",
    "Who are the most common wine reviewers in the dataset? Create a `Series` whose index is the `taster_twitter_handle` category from the dataset, and whose values count how many reviews each person wrote."
   ]
  },
  {
   "cell_type": "code",
   "execution_count": 2,
   "id": "d79978bc",
   "metadata": {
    "execution": {
     "iopub.execute_input": "2022-05-01T16:31:50.407517Z",
     "iopub.status.busy": "2022-05-01T16:31:50.407135Z",
     "iopub.status.idle": "2022-05-01T16:31:50.437939Z",
     "shell.execute_reply": "2022-05-01T16:31:50.437197Z"
    },
    "papermill": {
     "duration": 0.057324,
     "end_time": "2022-05-01T16:31:50.439888",
     "exception": false,
     "start_time": "2022-05-01T16:31:50.382564",
     "status": "completed"
    },
    "tags": []
   },
   "outputs": [
    {
     "data": {
      "application/javascript": [
       "parent.postMessage({\"jupyterEvent\": \"custom.exercise_interaction\", \"data\": {\"outcomeType\": 1, \"valueTowardsCompletion\": 0.16666666666666666, \"interactionType\": 1, \"questionType\": 1, \"questionId\": \"1_ReviewsWritten\", \"learnToolsVersion\": \"0.3.4\", \"failureMessage\": \"\", \"exceptionClass\": \"\", \"trace\": \"\"}}, \"*\")"
      ],
      "text/plain": [
       "<IPython.core.display.Javascript object>"
      ]
     },
     "metadata": {},
     "output_type": "display_data"
    },
    {
     "data": {
      "text/markdown": [
       "<span style=\"color:#33cc33\">Correct:</span> \n",
       "\n",
       "\n",
       "```python\n",
       "reviews_written = reviews.groupby('taster_twitter_handle').size()\n",
       "```\n",
       "or\n",
       "```python\n",
       "reviews_written = reviews.groupby('taster_twitter_handle').taster_twitter_handle.count()\n",
       "```\n"
      ],
      "text/plain": [
       "Correct: \n",
       "\n",
       "\n",
       "```python\n",
       "reviews_written = reviews.groupby('taster_twitter_handle').size()\n",
       "```\n",
       "or\n",
       "```python\n",
       "reviews_written = reviews.groupby('taster_twitter_handle').taster_twitter_handle.count()\n",
       "```"
      ]
     },
     "metadata": {},
     "output_type": "display_data"
    }
   ],
   "source": [
    "# Your code here\n",
    "reviews_written = reviews.groupby('taster_twitter_handle').points.count()\n",
    "\n",
    "# Check your answer\n",
    "q1.check()"
   ]
  },
  {
   "cell_type": "code",
   "execution_count": 3,
   "id": "9fc7eac5",
   "metadata": {
    "execution": {
     "iopub.execute_input": "2022-05-01T16:31:50.491489Z",
     "iopub.status.busy": "2022-05-01T16:31:50.490798Z",
     "iopub.status.idle": "2022-05-01T16:31:50.494167Z",
     "shell.execute_reply": "2022-05-01T16:31:50.493524Z"
    },
    "papermill": {
     "duration": 0.032401,
     "end_time": "2022-05-01T16:31:50.496360",
     "exception": false,
     "start_time": "2022-05-01T16:31:50.463959",
     "status": "completed"
    },
    "tags": []
   },
   "outputs": [],
   "source": [
    "#q1.hint()\n",
    "#q1.solution()"
   ]
  },
  {
   "cell_type": "markdown",
   "id": "d1c0ab1a",
   "metadata": {
    "papermill": {
     "duration": 0.024722,
     "end_time": "2022-05-01T16:31:50.545640",
     "exception": false,
     "start_time": "2022-05-01T16:31:50.520918",
     "status": "completed"
    },
    "tags": []
   },
   "source": [
    "## 2.\n",
    "What is the best wine I can buy for a given amount of money? Create a `Series` whose index is wine prices and whose values is the maximum number of points a wine costing that much was given in a review. Sort the values by price, ascending (so that `4.0` dollars is at the top and `3300.0` dollars is at the bottom)."
   ]
  },
  {
   "cell_type": "code",
   "execution_count": 4,
   "id": "9fc2cc40",
   "metadata": {
    "execution": {
     "iopub.execute_input": "2022-05-01T16:31:50.598468Z",
     "iopub.status.busy": "2022-05-01T16:31:50.597801Z",
     "iopub.status.idle": "2022-05-01T16:31:50.610913Z",
     "shell.execute_reply": "2022-05-01T16:31:50.610151Z"
    },
    "papermill": {
     "duration": 0.041178,
     "end_time": "2022-05-01T16:31:50.613240",
     "exception": false,
     "start_time": "2022-05-01T16:31:50.572062",
     "status": "completed"
    },
    "tags": []
   },
   "outputs": [
    {
     "data": {
      "application/javascript": [
       "parent.postMessage({\"jupyterEvent\": \"custom.exercise_interaction\", \"data\": {\"outcomeType\": 1, \"valueTowardsCompletion\": 0.16666666666666666, \"interactionType\": 1, \"questionType\": 1, \"questionId\": \"2_BestRatingPerPrice\", \"learnToolsVersion\": \"0.3.4\", \"failureMessage\": \"\", \"exceptionClass\": \"\", \"trace\": \"\"}}, \"*\")"
      ],
      "text/plain": [
       "<IPython.core.display.Javascript object>"
      ]
     },
     "metadata": {},
     "output_type": "display_data"
    },
    {
     "data": {
      "text/markdown": [
       "<span style=\"color:#33cc33\">Correct</span>"
      ],
      "text/plain": [
       "Correct"
      ]
     },
     "metadata": {},
     "output_type": "display_data"
    }
   ],
   "source": [
    "best_rating_per_price = best_rating_per_price = reviews.groupby('price')['points'].max()\n",
    "best_rating_per_price\n",
    "\n",
    "# Check your answer\n",
    "q2.check()"
   ]
  },
  {
   "cell_type": "code",
   "execution_count": 5,
   "id": "20b9da36",
   "metadata": {
    "execution": {
     "iopub.execute_input": "2022-05-01T16:31:50.667253Z",
     "iopub.status.busy": "2022-05-01T16:31:50.666544Z",
     "iopub.status.idle": "2022-05-01T16:31:50.670107Z",
     "shell.execute_reply": "2022-05-01T16:31:50.669348Z"
    },
    "papermill": {
     "duration": 0.0328,
     "end_time": "2022-05-01T16:31:50.672195",
     "exception": false,
     "start_time": "2022-05-01T16:31:50.639395",
     "status": "completed"
    },
    "tags": []
   },
   "outputs": [],
   "source": [
    "#q2.hint()\n",
    "#q2.solution()"
   ]
  },
  {
   "cell_type": "markdown",
   "id": "4c6838fe",
   "metadata": {
    "papermill": {
     "duration": 0.025028,
     "end_time": "2022-05-01T16:31:50.722858",
     "exception": false,
     "start_time": "2022-05-01T16:31:50.697830",
     "status": "completed"
    },
    "tags": []
   },
   "source": [
    "## 3.\n",
    "What are the minimum and maximum prices for each `variety` of wine? Create a `DataFrame` whose index is the `variety` category from the dataset and whose values are the `min` and `max` values thereof."
   ]
  },
  {
   "cell_type": "code",
   "execution_count": 6,
   "id": "013def7d",
   "metadata": {
    "execution": {
     "iopub.execute_input": "2022-05-01T16:31:50.775909Z",
     "iopub.status.busy": "2022-05-01T16:31:50.775048Z",
     "iopub.status.idle": "2022-05-01T16:31:50.806207Z",
     "shell.execute_reply": "2022-05-01T16:31:50.805411Z"
    },
    "papermill": {
     "duration": 0.061216,
     "end_time": "2022-05-01T16:31:50.809375",
     "exception": false,
     "start_time": "2022-05-01T16:31:50.748159",
     "status": "completed"
    },
    "tags": []
   },
   "outputs": [
    {
     "data": {
      "application/javascript": [
       "parent.postMessage({\"jupyterEvent\": \"custom.exercise_interaction\", \"data\": {\"outcomeType\": 1, \"valueTowardsCompletion\": 0.16666666666666666, \"interactionType\": 1, \"questionType\": 1, \"questionId\": \"3_PriceExtremes\", \"learnToolsVersion\": \"0.3.4\", \"failureMessage\": \"\", \"exceptionClass\": \"\", \"trace\": \"\"}}, \"*\")"
      ],
      "text/plain": [
       "<IPython.core.display.Javascript object>"
      ]
     },
     "metadata": {},
     "output_type": "display_data"
    },
    {
     "data": {
      "text/markdown": [
       "<span style=\"color:#33cc33\">Correct</span>"
      ],
      "text/plain": [
       "Correct"
      ]
     },
     "metadata": {},
     "output_type": "display_data"
    }
   ],
   "source": [
    "price_extremes = reviews.groupby('variety').price.agg([min, max])\n",
    "\n",
    "# Check your answer\n",
    "q3.check()"
   ]
  },
  {
   "cell_type": "code",
   "execution_count": 7,
   "id": "f96a4436",
   "metadata": {
    "execution": {
     "iopub.execute_input": "2022-05-01T16:31:50.866743Z",
     "iopub.status.busy": "2022-05-01T16:31:50.866121Z",
     "iopub.status.idle": "2022-05-01T16:31:50.869553Z",
     "shell.execute_reply": "2022-05-01T16:31:50.868885Z"
    },
    "papermill": {
     "duration": 0.034572,
     "end_time": "2022-05-01T16:31:50.871459",
     "exception": false,
     "start_time": "2022-05-01T16:31:50.836887",
     "status": "completed"
    },
    "tags": []
   },
   "outputs": [],
   "source": [
    "#q3.hint()\n",
    "#q3.solution()"
   ]
  },
  {
   "cell_type": "markdown",
   "id": "0d2b1f80",
   "metadata": {
    "papermill": {
     "duration": 0.026961,
     "end_time": "2022-05-01T16:31:50.925367",
     "exception": false,
     "start_time": "2022-05-01T16:31:50.898406",
     "status": "completed"
    },
    "tags": []
   },
   "source": [
    "## 4.\n",
    "What are the most expensive wine varieties? Create a variable `sorted_varieties` containing a copy of the dataframe from the previous question where varieties are sorted in descending order based on minimum price, then on maximum price (to break ties)."
   ]
  },
  {
   "cell_type": "code",
   "execution_count": 8,
   "id": "f6042ff0",
   "metadata": {
    "execution": {
     "iopub.execute_input": "2022-05-01T16:31:50.980428Z",
     "iopub.status.busy": "2022-05-01T16:31:50.979694Z",
     "iopub.status.idle": "2022-05-01T16:31:50.991325Z",
     "shell.execute_reply": "2022-05-01T16:31:50.990470Z"
    },
    "papermill": {
     "duration": 0.041528,
     "end_time": "2022-05-01T16:31:50.993279",
     "exception": false,
     "start_time": "2022-05-01T16:31:50.951751",
     "status": "completed"
    },
    "tags": []
   },
   "outputs": [
    {
     "data": {
      "application/javascript": [
       "parent.postMessage({\"jupyterEvent\": \"custom.exercise_interaction\", \"data\": {\"outcomeType\": 1, \"valueTowardsCompletion\": 0.16666666666666666, \"interactionType\": 1, \"questionType\": 1, \"questionId\": \"4_SortedVarieties\", \"learnToolsVersion\": \"0.3.4\", \"failureMessage\": \"\", \"exceptionClass\": \"\", \"trace\": \"\"}}, \"*\")"
      ],
      "text/plain": [
       "<IPython.core.display.Javascript object>"
      ]
     },
     "metadata": {},
     "output_type": "display_data"
    },
    {
     "data": {
      "text/markdown": [
       "<span style=\"color:#33cc33\">Correct</span>"
      ],
      "text/plain": [
       "Correct"
      ]
     },
     "metadata": {},
     "output_type": "display_data"
    }
   ],
   "source": [
    "sorted_varieties = price_extremes.sort_values(by=['min', 'max'],ascending=False)\n",
    "\n",
    "# Check your answer\n",
    "q4.check()"
   ]
  },
  {
   "cell_type": "code",
   "execution_count": 9,
   "id": "a5a6e876",
   "metadata": {
    "execution": {
     "iopub.execute_input": "2022-05-01T16:31:51.053335Z",
     "iopub.status.busy": "2022-05-01T16:31:51.052903Z",
     "iopub.status.idle": "2022-05-01T16:31:51.056840Z",
     "shell.execute_reply": "2022-05-01T16:31:51.055921Z"
    },
    "papermill": {
     "duration": 0.037971,
     "end_time": "2022-05-01T16:31:51.058819",
     "exception": false,
     "start_time": "2022-05-01T16:31:51.020848",
     "status": "completed"
    },
    "tags": []
   },
   "outputs": [],
   "source": [
    "#q4.hint()\n",
    "#q4.solution()"
   ]
  },
  {
   "cell_type": "markdown",
   "id": "045e3a87",
   "metadata": {
    "papermill": {
     "duration": 0.027939,
     "end_time": "2022-05-01T16:31:51.115370",
     "exception": false,
     "start_time": "2022-05-01T16:31:51.087431",
     "status": "completed"
    },
    "tags": []
   },
   "source": [
    "## 5.\n",
    "Create a `Series` whose index is reviewers and whose values is the average review score given out by that reviewer. Hint: you will need the `taster_name` and `points` columns."
   ]
  },
  {
   "cell_type": "code",
   "execution_count": 10,
   "id": "3ad53f6a",
   "metadata": {
    "execution": {
     "iopub.execute_input": "2022-05-01T16:31:51.174807Z",
     "iopub.status.busy": "2022-05-01T16:31:51.174183Z",
     "iopub.status.idle": "2022-05-01T16:31:51.201579Z",
     "shell.execute_reply": "2022-05-01T16:31:51.200907Z"
    },
    "papermill": {
     "duration": 0.060326,
     "end_time": "2022-05-01T16:31:51.203584",
     "exception": false,
     "start_time": "2022-05-01T16:31:51.143258",
     "status": "completed"
    },
    "tags": []
   },
   "outputs": [
    {
     "data": {
      "application/javascript": [
       "parent.postMessage({\"jupyterEvent\": \"custom.exercise_interaction\", \"data\": {\"outcomeType\": 1, \"valueTowardsCompletion\": 0.16666666666666666, \"interactionType\": 1, \"questionType\": 1, \"questionId\": \"5_ReviewerMeanRatings\", \"learnToolsVersion\": \"0.3.4\", \"failureMessage\": \"\", \"exceptionClass\": \"\", \"trace\": \"\"}}, \"*\")"
      ],
      "text/plain": [
       "<IPython.core.display.Javascript object>"
      ]
     },
     "metadata": {},
     "output_type": "display_data"
    },
    {
     "data": {
      "text/markdown": [
       "<span style=\"color:#33cc33\">Correct</span>"
      ],
      "text/plain": [
       "Correct"
      ]
     },
     "metadata": {},
     "output_type": "display_data"
    }
   ],
   "source": [
    "reviewer_mean_ratings = reviews.groupby('taster_name').points.mean()\n",
    "\n",
    "# Check your answer\n",
    "q5.check()"
   ]
  },
  {
   "cell_type": "code",
   "execution_count": 11,
   "id": "8b4a9e9f",
   "metadata": {
    "execution": {
     "iopub.execute_input": "2022-05-01T16:31:51.264056Z",
     "iopub.status.busy": "2022-05-01T16:31:51.263710Z",
     "iopub.status.idle": "2022-05-01T16:31:51.267059Z",
     "shell.execute_reply": "2022-05-01T16:31:51.266222Z"
    },
    "papermill": {
     "duration": 0.035657,
     "end_time": "2022-05-01T16:31:51.269098",
     "exception": false,
     "start_time": "2022-05-01T16:31:51.233441",
     "status": "completed"
    },
    "tags": []
   },
   "outputs": [],
   "source": [
    "#q5.hint()\n",
    "#q5.solution()"
   ]
  },
  {
   "cell_type": "markdown",
   "id": "861396a2",
   "metadata": {
    "papermill": {
     "duration": 0.028644,
     "end_time": "2022-05-01T16:31:51.326621",
     "exception": false,
     "start_time": "2022-05-01T16:31:51.297977",
     "status": "completed"
    },
    "tags": []
   },
   "source": [
    "Are there significant differences in the average scores assigned by the various reviewers? Run the cell below to use the `describe()` method to see a summary of the range of values."
   ]
  },
  {
   "cell_type": "code",
   "execution_count": 12,
   "id": "e32a59d6",
   "metadata": {
    "execution": {
     "iopub.execute_input": "2022-05-01T16:31:51.387612Z",
     "iopub.status.busy": "2022-05-01T16:31:51.387292Z",
     "iopub.status.idle": "2022-05-01T16:31:51.400328Z",
     "shell.execute_reply": "2022-05-01T16:31:51.399248Z"
    },
    "papermill": {
     "duration": 0.046312,
     "end_time": "2022-05-01T16:31:51.402633",
     "exception": false,
     "start_time": "2022-05-01T16:31:51.356321",
     "status": "completed"
    },
    "tags": []
   },
   "outputs": [
    {
     "data": {
      "text/plain": [
       "count    19.000000\n",
       "mean     88.233026\n",
       "std       1.243610\n",
       "min      85.855422\n",
       "25%      87.323501\n",
       "50%      88.536235\n",
       "75%      88.975256\n",
       "max      90.562551\n",
       "Name: points, dtype: float64"
      ]
     },
     "execution_count": 12,
     "metadata": {},
     "output_type": "execute_result"
    }
   ],
   "source": [
    "reviewer_mean_ratings.describe()"
   ]
  },
  {
   "cell_type": "markdown",
   "id": "91a9985b",
   "metadata": {
    "papermill": {
     "duration": 0.028655,
     "end_time": "2022-05-01T16:31:51.461346",
     "exception": false,
     "start_time": "2022-05-01T16:31:51.432691",
     "status": "completed"
    },
    "tags": []
   },
   "source": [
    "## 6.\n",
    "What combination of countries and varieties are most common? Create a `Series` whose index is a `MultiIndex`of `{country, variety}` pairs. For example, a pinot noir produced in the US should map to `{\"US\", \"Pinot Noir\"}`. Sort the values in the `Series` in descending order based on wine count."
   ]
  },
  {
   "cell_type": "code",
   "execution_count": 13,
   "id": "00e21d17",
   "metadata": {
    "execution": {
     "iopub.execute_input": "2022-05-01T16:31:51.522738Z",
     "iopub.status.busy": "2022-05-01T16:31:51.521571Z",
     "iopub.status.idle": "2022-05-01T16:31:51.570321Z",
     "shell.execute_reply": "2022-05-01T16:31:51.569375Z"
    },
    "papermill": {
     "duration": 0.081532,
     "end_time": "2022-05-01T16:31:51.572654",
     "exception": false,
     "start_time": "2022-05-01T16:31:51.491122",
     "status": "completed"
    },
    "tags": []
   },
   "outputs": [
    {
     "data": {
      "application/javascript": [
       "parent.postMessage({\"jupyterEvent\": \"custom.exercise_interaction\", \"data\": {\"outcomeType\": 1, \"valueTowardsCompletion\": 0.16666666666666666, \"interactionType\": 1, \"questionType\": 1, \"questionId\": \"6_GroupbyCountryVariety\", \"learnToolsVersion\": \"0.3.4\", \"failureMessage\": \"\", \"exceptionClass\": \"\", \"trace\": \"\"}}, \"*\")"
      ],
      "text/plain": [
       "<IPython.core.display.Javascript object>"
      ]
     },
     "metadata": {},
     "output_type": "display_data"
    },
    {
     "data": {
      "text/markdown": [
       "<span style=\"color:#33cc33\">Correct</span>"
      ],
      "text/plain": [
       "Correct"
      ]
     },
     "metadata": {},
     "output_type": "display_data"
    }
   ],
   "source": [
    "country_variety_counts = reviews.groupby(['country','variety']).size().sort_values(ascending=False)\n",
    "\n",
    "# Check your answer\n",
    "q6.check()"
   ]
  },
  {
   "cell_type": "code",
   "execution_count": 14,
   "id": "a8f3af28",
   "metadata": {
    "execution": {
     "iopub.execute_input": "2022-05-01T16:31:51.635632Z",
     "iopub.status.busy": "2022-05-01T16:31:51.635364Z",
     "iopub.status.idle": "2022-05-01T16:31:51.638794Z",
     "shell.execute_reply": "2022-05-01T16:31:51.637629Z"
    },
    "papermill": {
     "duration": 0.037249,
     "end_time": "2022-05-01T16:31:51.640907",
     "exception": false,
     "start_time": "2022-05-01T16:31:51.603658",
     "status": "completed"
    },
    "tags": []
   },
   "outputs": [],
   "source": [
    "#q6.hint()\n",
    "#q6.solution()"
   ]
  },
  {
   "cell_type": "markdown",
   "id": "e366f161",
   "metadata": {
    "papermill": {
     "duration": 0.030803,
     "end_time": "2022-05-01T16:31:51.702067",
     "exception": false,
     "start_time": "2022-05-01T16:31:51.671264",
     "status": "completed"
    },
    "tags": []
   },
   "source": [
    "# Keep going\n",
    "\n",
    "Move on to the [**data types and missing data**](https://www.kaggle.com/residentmario/data-types-and-missing-values)."
   ]
  },
  {
   "cell_type": "markdown",
   "id": "7d30d02f",
   "metadata": {
    "papermill": {
     "duration": 0.030455,
     "end_time": "2022-05-01T16:31:51.763271",
     "exception": false,
     "start_time": "2022-05-01T16:31:51.732816",
     "status": "completed"
    },
    "tags": []
   },
   "source": [
    "---\n",
    "\n",
    "\n",
    "\n",
    "\n",
    "*Have questions or comments? Visit the [course discussion forum](https://www.kaggle.com/learn/pandas/discussion) to chat with other learners.*"
   ]
  }
 ],
 "metadata": {
  "kernelspec": {
   "display_name": "Python 3",
   "language": "python",
   "name": "python3"
  },
  "language_info": {
   "codemirror_mode": {
    "name": "ipython",
    "version": 3
   },
   "file_extension": ".py",
   "mimetype": "text/x-python",
   "name": "python",
   "nbconvert_exporter": "python",
   "pygments_lexer": "ipython3",
   "version": "3.7.12"
  },
  "papermill": {
   "default_parameters": {},
   "duration": 16.969582,
   "end_time": "2022-05-01T16:31:52.618776",
   "environment_variables": {},
   "exception": null,
   "input_path": "__notebook__.ipynb",
   "output_path": "__notebook__.ipynb",
   "parameters": {},
   "start_time": "2022-05-01T16:31:35.649194",
   "version": "2.3.4"
  }
 },
 "nbformat": 4,
 "nbformat_minor": 5
}
