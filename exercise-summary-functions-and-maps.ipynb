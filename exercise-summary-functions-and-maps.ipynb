{
 "cells": [
  {
   "cell_type": "markdown",
   "id": "d72c37e3",
   "metadata": {
    "papermill": {
     "duration": 0.025158,
     "end_time": "2022-05-01T14:41:39.143477",
     "exception": false,
     "start_time": "2022-05-01T14:41:39.118319",
     "status": "completed"
    },
    "tags": []
   },
   "source": [
    "**This notebook is an exercise in the [Pandas](https://www.kaggle.com/learn/pandas) course.  You can reference the tutorial at [this link](https://www.kaggle.com/residentmario/summary-functions-and-maps).**\n",
    "\n",
    "---\n"
   ]
  },
  {
   "cell_type": "markdown",
   "id": "80b5eb1f",
   "metadata": {
    "papermill": {
     "duration": 0.024155,
     "end_time": "2022-05-01T14:41:39.191920",
     "exception": false,
     "start_time": "2022-05-01T14:41:39.167765",
     "status": "completed"
    },
    "tags": []
   },
   "source": [
    "# Introduction\n",
    "\n",
    "Now you are ready to get a deeper understanding of your data.\n",
    "\n",
    "Run the following cell to load your data and some utility functions (including code to check your answers)."
   ]
  },
  {
   "cell_type": "code",
   "execution_count": 1,
   "id": "362ad539",
   "metadata": {
    "execution": {
     "iopub.execute_input": "2022-05-01T14:41:39.243209Z",
     "iopub.status.busy": "2022-05-01T14:41:39.242675Z",
     "iopub.status.idle": "2022-05-01T14:41:47.347412Z",
     "shell.execute_reply": "2022-05-01T14:41:47.346554Z"
    },
    "papermill": {
     "duration": 8.13446,
     "end_time": "2022-05-01T14:41:47.351537",
     "exception": false,
     "start_time": "2022-05-01T14:41:39.217077",
     "status": "completed"
    },
    "tags": []
   },
   "outputs": [
    {
     "name": "stdout",
     "output_type": "stream",
     "text": [
      "Setup complete.\n"
     ]
    },
    {
     "data": {
      "text/html": [
       "<div>\n",
       "<style scoped>\n",
       "    .dataframe tbody tr th:only-of-type {\n",
       "        vertical-align: middle;\n",
       "    }\n",
       "\n",
       "    .dataframe tbody tr th {\n",
       "        vertical-align: top;\n",
       "    }\n",
       "\n",
       "    .dataframe thead th {\n",
       "        text-align: right;\n",
       "    }\n",
       "</style>\n",
       "<table border=\"1\" class=\"dataframe\">\n",
       "  <thead>\n",
       "    <tr style=\"text-align: right;\">\n",
       "      <th></th>\n",
       "      <th>country</th>\n",
       "      <th>description</th>\n",
       "      <th>designation</th>\n",
       "      <th>points</th>\n",
       "      <th>price</th>\n",
       "      <th>province</th>\n",
       "      <th>region_1</th>\n",
       "      <th>region_2</th>\n",
       "      <th>taster_name</th>\n",
       "      <th>taster_twitter_handle</th>\n",
       "      <th>title</th>\n",
       "      <th>variety</th>\n",
       "      <th>winery</th>\n",
       "    </tr>\n",
       "  </thead>\n",
       "  <tbody>\n",
       "    <tr>\n",
       "      <th>0</th>\n",
       "      <td>Italy</td>\n",
       "      <td>Aromas include tropical fruit, broom, brimston...</td>\n",
       "      <td>Vulkà Bianco</td>\n",
       "      <td>87</td>\n",
       "      <td>NaN</td>\n",
       "      <td>Sicily &amp; Sardinia</td>\n",
       "      <td>Etna</td>\n",
       "      <td>NaN</td>\n",
       "      <td>Kerin O’Keefe</td>\n",
       "      <td>@kerinokeefe</td>\n",
       "      <td>Nicosia 2013 Vulkà Bianco  (Etna)</td>\n",
       "      <td>White Blend</td>\n",
       "      <td>Nicosia</td>\n",
       "    </tr>\n",
       "    <tr>\n",
       "      <th>1</th>\n",
       "      <td>Portugal</td>\n",
       "      <td>This is ripe and fruity, a wine that is smooth...</td>\n",
       "      <td>Avidagos</td>\n",
       "      <td>87</td>\n",
       "      <td>15.0</td>\n",
       "      <td>Douro</td>\n",
       "      <td>NaN</td>\n",
       "      <td>NaN</td>\n",
       "      <td>Roger Voss</td>\n",
       "      <td>@vossroger</td>\n",
       "      <td>Quinta dos Avidagos 2011 Avidagos Red (Douro)</td>\n",
       "      <td>Portuguese Red</td>\n",
       "      <td>Quinta dos Avidagos</td>\n",
       "    </tr>\n",
       "    <tr>\n",
       "      <th>2</th>\n",
       "      <td>US</td>\n",
       "      <td>Tart and snappy, the flavors of lime flesh and...</td>\n",
       "      <td>NaN</td>\n",
       "      <td>87</td>\n",
       "      <td>14.0</td>\n",
       "      <td>Oregon</td>\n",
       "      <td>Willamette Valley</td>\n",
       "      <td>Willamette Valley</td>\n",
       "      <td>Paul Gregutt</td>\n",
       "      <td>@paulgwine</td>\n",
       "      <td>Rainstorm 2013 Pinot Gris (Willamette Valley)</td>\n",
       "      <td>Pinot Gris</td>\n",
       "      <td>Rainstorm</td>\n",
       "    </tr>\n",
       "    <tr>\n",
       "      <th>3</th>\n",
       "      <td>US</td>\n",
       "      <td>Pineapple rind, lemon pith and orange blossom ...</td>\n",
       "      <td>Reserve Late Harvest</td>\n",
       "      <td>87</td>\n",
       "      <td>13.0</td>\n",
       "      <td>Michigan</td>\n",
       "      <td>Lake Michigan Shore</td>\n",
       "      <td>NaN</td>\n",
       "      <td>Alexander Peartree</td>\n",
       "      <td>NaN</td>\n",
       "      <td>St. Julian 2013 Reserve Late Harvest Riesling ...</td>\n",
       "      <td>Riesling</td>\n",
       "      <td>St. Julian</td>\n",
       "    </tr>\n",
       "    <tr>\n",
       "      <th>4</th>\n",
       "      <td>US</td>\n",
       "      <td>Much like the regular bottling from 2012, this...</td>\n",
       "      <td>Vintner's Reserve Wild Child Block</td>\n",
       "      <td>87</td>\n",
       "      <td>65.0</td>\n",
       "      <td>Oregon</td>\n",
       "      <td>Willamette Valley</td>\n",
       "      <td>Willamette Valley</td>\n",
       "      <td>Paul Gregutt</td>\n",
       "      <td>@paulgwine</td>\n",
       "      <td>Sweet Cheeks 2012 Vintner's Reserve Wild Child...</td>\n",
       "      <td>Pinot Noir</td>\n",
       "      <td>Sweet Cheeks</td>\n",
       "    </tr>\n",
       "  </tbody>\n",
       "</table>\n",
       "</div>"
      ],
      "text/plain": [
       "    country                                        description  \\\n",
       "0     Italy  Aromas include tropical fruit, broom, brimston...   \n",
       "1  Portugal  This is ripe and fruity, a wine that is smooth...   \n",
       "2        US  Tart and snappy, the flavors of lime flesh and...   \n",
       "3        US  Pineapple rind, lemon pith and orange blossom ...   \n",
       "4        US  Much like the regular bottling from 2012, this...   \n",
       "\n",
       "                          designation  points  price           province  \\\n",
       "0                        Vulkà Bianco      87    NaN  Sicily & Sardinia   \n",
       "1                            Avidagos      87   15.0              Douro   \n",
       "2                                 NaN      87   14.0             Oregon   \n",
       "3                Reserve Late Harvest      87   13.0           Michigan   \n",
       "4  Vintner's Reserve Wild Child Block      87   65.0             Oregon   \n",
       "\n",
       "              region_1           region_2         taster_name  \\\n",
       "0                 Etna                NaN       Kerin O’Keefe   \n",
       "1                  NaN                NaN          Roger Voss   \n",
       "2    Willamette Valley  Willamette Valley        Paul Gregutt   \n",
       "3  Lake Michigan Shore                NaN  Alexander Peartree   \n",
       "4    Willamette Valley  Willamette Valley        Paul Gregutt   \n",
       "\n",
       "  taster_twitter_handle                                              title  \\\n",
       "0          @kerinokeefe                  Nicosia 2013 Vulkà Bianco  (Etna)   \n",
       "1            @vossroger      Quinta dos Avidagos 2011 Avidagos Red (Douro)   \n",
       "2           @paulgwine       Rainstorm 2013 Pinot Gris (Willamette Valley)   \n",
       "3                   NaN  St. Julian 2013 Reserve Late Harvest Riesling ...   \n",
       "4           @paulgwine   Sweet Cheeks 2012 Vintner's Reserve Wild Child...   \n",
       "\n",
       "          variety               winery  \n",
       "0     White Blend              Nicosia  \n",
       "1  Portuguese Red  Quinta dos Avidagos  \n",
       "2      Pinot Gris            Rainstorm  \n",
       "3        Riesling           St. Julian  \n",
       "4      Pinot Noir         Sweet Cheeks  "
      ]
     },
     "execution_count": 1,
     "metadata": {},
     "output_type": "execute_result"
    }
   ],
   "source": [
    "import pandas as pd\n",
    "pd.set_option(\"display.max_rows\", 5)\n",
    "reviews = pd.read_csv(\"../input/wine-reviews/winemag-data-130k-v2.csv\", index_col=0)\n",
    "\n",
    "from learntools.core import binder; binder.bind(globals())\n",
    "from learntools.pandas.summary_functions_and_maps import *\n",
    "print(\"Setup complete.\")\n",
    "\n",
    "reviews.head()"
   ]
  },
  {
   "cell_type": "markdown",
   "id": "e03d4864",
   "metadata": {
    "papermill": {
     "duration": 0.023133,
     "end_time": "2022-05-01T14:41:47.398482",
     "exception": false,
     "start_time": "2022-05-01T14:41:47.375349",
     "status": "completed"
    },
    "tags": []
   },
   "source": [
    "# Exercises"
   ]
  },
  {
   "cell_type": "markdown",
   "id": "9bbd8235",
   "metadata": {
    "papermill": {
     "duration": 0.023164,
     "end_time": "2022-05-01T14:41:47.444933",
     "exception": false,
     "start_time": "2022-05-01T14:41:47.421769",
     "status": "completed"
    },
    "tags": []
   },
   "source": [
    "## 1.\n",
    "\n",
    "What is the median of the `points` column in the `reviews` DataFrame?"
   ]
  },
  {
   "cell_type": "code",
   "execution_count": 2,
   "id": "b99bbf13",
   "metadata": {
    "execution": {
     "iopub.execute_input": "2022-05-01T14:41:47.493499Z",
     "iopub.status.busy": "2022-05-01T14:41:47.492916Z",
     "iopub.status.idle": "2022-05-01T14:41:47.503438Z",
     "shell.execute_reply": "2022-05-01T14:41:47.502540Z"
    },
    "papermill": {
     "duration": 0.037293,
     "end_time": "2022-05-01T14:41:47.505449",
     "exception": false,
     "start_time": "2022-05-01T14:41:47.468156",
     "status": "completed"
    },
    "tags": []
   },
   "outputs": [
    {
     "data": {
      "application/javascript": [
       "parent.postMessage({\"jupyterEvent\": \"custom.exercise_interaction\", \"data\": {\"outcomeType\": 1, \"valueTowardsCompletion\": 0.14285714285714285, \"interactionType\": 1, \"questionType\": 1, \"questionId\": \"1_MedianPoints\", \"learnToolsVersion\": \"0.3.4\", \"failureMessage\": \"\", \"exceptionClass\": \"\", \"trace\": \"\"}}, \"*\")"
      ],
      "text/plain": [
       "<IPython.core.display.Javascript object>"
      ]
     },
     "metadata": {},
     "output_type": "display_data"
    },
    {
     "data": {
      "text/markdown": [
       "<span style=\"color:#33cc33\">Correct</span>"
      ],
      "text/plain": [
       "Correct"
      ]
     },
     "metadata": {},
     "output_type": "display_data"
    }
   ],
   "source": [
    "median_points = reviews.points.median()\n",
    "\n",
    "# Check your answer\n",
    "q1.check()"
   ]
  },
  {
   "cell_type": "code",
   "execution_count": 3,
   "id": "8bcf9434",
   "metadata": {
    "execution": {
     "iopub.execute_input": "2022-05-01T14:41:47.557164Z",
     "iopub.status.busy": "2022-05-01T14:41:47.556588Z",
     "iopub.status.idle": "2022-05-01T14:41:47.560078Z",
     "shell.execute_reply": "2022-05-01T14:41:47.559462Z"
    },
    "papermill": {
     "duration": 0.03215,
     "end_time": "2022-05-01T14:41:47.562133",
     "exception": false,
     "start_time": "2022-05-01T14:41:47.529983",
     "status": "completed"
    },
    "tags": []
   },
   "outputs": [],
   "source": [
    "#q1.hint()\n",
    "#q1.solution()"
   ]
  },
  {
   "cell_type": "markdown",
   "id": "98263978",
   "metadata": {
    "papermill": {
     "duration": 0.02628,
     "end_time": "2022-05-01T14:41:47.613037",
     "exception": false,
     "start_time": "2022-05-01T14:41:47.586757",
     "status": "completed"
    },
    "tags": []
   },
   "source": [
    "## 2. \n",
    "What countries are represented in the dataset? (Your answer should not include any duplicates.)"
   ]
  },
  {
   "cell_type": "code",
   "execution_count": 4,
   "id": "d6f3da5e",
   "metadata": {
    "execution": {
     "iopub.execute_input": "2022-05-01T14:41:47.664239Z",
     "iopub.status.busy": "2022-05-01T14:41:47.663639Z",
     "iopub.status.idle": "2022-05-01T14:41:47.684038Z",
     "shell.execute_reply": "2022-05-01T14:41:47.683226Z"
    },
    "papermill": {
     "duration": 0.048529,
     "end_time": "2022-05-01T14:41:47.686094",
     "exception": false,
     "start_time": "2022-05-01T14:41:47.637565",
     "status": "completed"
    },
    "tags": []
   },
   "outputs": [
    {
     "data": {
      "application/javascript": [
       "parent.postMessage({\"jupyterEvent\": \"custom.exercise_interaction\", \"data\": {\"outcomeType\": 1, \"valueTowardsCompletion\": 0.14285714285714285, \"interactionType\": 1, \"questionType\": 2, \"questionId\": \"2_UniqueCountries\", \"learnToolsVersion\": \"0.3.4\", \"failureMessage\": \"\", \"exceptionClass\": \"\", \"trace\": \"\"}}, \"*\")"
      ],
      "text/plain": [
       "<IPython.core.display.Javascript object>"
      ]
     },
     "metadata": {},
     "output_type": "display_data"
    },
    {
     "data": {
      "text/markdown": [
       "<span style=\"color:#33cc33\">Correct</span>"
      ],
      "text/plain": [
       "Correct"
      ]
     },
     "metadata": {},
     "output_type": "display_data"
    }
   ],
   "source": [
    "countries = reviews.country.unique()\n",
    "\n",
    "# Check your answer\n",
    "q2.check()"
   ]
  },
  {
   "cell_type": "code",
   "execution_count": 5,
   "id": "3e4f40be",
   "metadata": {
    "execution": {
     "iopub.execute_input": "2022-05-01T14:41:47.741444Z",
     "iopub.status.busy": "2022-05-01T14:41:47.740993Z",
     "iopub.status.idle": "2022-05-01T14:41:47.744446Z",
     "shell.execute_reply": "2022-05-01T14:41:47.743706Z"
    },
    "papermill": {
     "duration": 0.033642,
     "end_time": "2022-05-01T14:41:47.746510",
     "exception": false,
     "start_time": "2022-05-01T14:41:47.712868",
     "status": "completed"
    },
    "tags": []
   },
   "outputs": [],
   "source": [
    "#q2.hint()\n",
    "#q2.solution()"
   ]
  },
  {
   "cell_type": "markdown",
   "id": "b3a63d5b",
   "metadata": {
    "papermill": {
     "duration": 0.025808,
     "end_time": "2022-05-01T14:41:47.798816",
     "exception": false,
     "start_time": "2022-05-01T14:41:47.773008",
     "status": "completed"
    },
    "tags": []
   },
   "source": [
    "## 3.\n",
    "How often does each country appear in the dataset? Create a Series `reviews_per_country` mapping countries to the count of reviews of wines from that country."
   ]
  },
  {
   "cell_type": "code",
   "execution_count": 6,
   "id": "e2cb4913",
   "metadata": {
    "execution": {
     "iopub.execute_input": "2022-05-01T14:41:47.853621Z",
     "iopub.status.busy": "2022-05-01T14:41:47.853207Z",
     "iopub.status.idle": "2022-05-01T14:41:47.879757Z",
     "shell.execute_reply": "2022-05-01T14:41:47.878985Z"
    },
    "papermill": {
     "duration": 0.056572,
     "end_time": "2022-05-01T14:41:47.881733",
     "exception": false,
     "start_time": "2022-05-01T14:41:47.825161",
     "status": "completed"
    },
    "tags": []
   },
   "outputs": [
    {
     "data": {
      "application/javascript": [
       "parent.postMessage({\"jupyterEvent\": \"custom.exercise_interaction\", \"data\": {\"outcomeType\": 1, \"valueTowardsCompletion\": 0.14285714285714285, \"interactionType\": 1, \"questionType\": 1, \"questionId\": \"3_ReviewsPerCountry\", \"learnToolsVersion\": \"0.3.4\", \"failureMessage\": \"\", \"exceptionClass\": \"\", \"trace\": \"\"}}, \"*\")"
      ],
      "text/plain": [
       "<IPython.core.display.Javascript object>"
      ]
     },
     "metadata": {},
     "output_type": "display_data"
    },
    {
     "data": {
      "text/markdown": [
       "<span style=\"color:#33cc33\">Correct</span>"
      ],
      "text/plain": [
       "Correct"
      ]
     },
     "metadata": {},
     "output_type": "display_data"
    }
   ],
   "source": [
    "reviews_per_country = reviews.country.value_counts()\n",
    "\n",
    "# Check your answer\n",
    "q3.check()"
   ]
  },
  {
   "cell_type": "code",
   "execution_count": 7,
   "id": "2e870b3b",
   "metadata": {
    "execution": {
     "iopub.execute_input": "2022-05-01T14:41:47.938650Z",
     "iopub.status.busy": "2022-05-01T14:41:47.938210Z",
     "iopub.status.idle": "2022-05-01T14:41:47.941990Z",
     "shell.execute_reply": "2022-05-01T14:41:47.941141Z"
    },
    "papermill": {
     "duration": 0.035216,
     "end_time": "2022-05-01T14:41:47.944137",
     "exception": false,
     "start_time": "2022-05-01T14:41:47.908921",
     "status": "completed"
    },
    "tags": []
   },
   "outputs": [],
   "source": [
    "#q3.hint()\n",
    "#q3.solution()"
   ]
  },
  {
   "cell_type": "markdown",
   "id": "d69364f3",
   "metadata": {
    "papermill": {
     "duration": 0.027295,
     "end_time": "2022-05-01T14:41:48.000250",
     "exception": false,
     "start_time": "2022-05-01T14:41:47.972955",
     "status": "completed"
    },
    "tags": []
   },
   "source": [
    "## 4.\n",
    "Create variable `centered_price` containing a version of the `price` column with the mean price subtracted.\n",
    "\n",
    "(Note: this 'centering' transformation is a common preprocessing step before applying various machine learning algorithms.) "
   ]
  },
  {
   "cell_type": "code",
   "execution_count": 8,
   "id": "7393bd39",
   "metadata": {
    "execution": {
     "iopub.execute_input": "2022-05-01T14:41:48.060059Z",
     "iopub.status.busy": "2022-05-01T14:41:48.059477Z",
     "iopub.status.idle": "2022-05-01T14:41:48.070056Z",
     "shell.execute_reply": "2022-05-01T14:41:48.069252Z"
    },
    "papermill": {
     "duration": 0.042893,
     "end_time": "2022-05-01T14:41:48.072089",
     "exception": false,
     "start_time": "2022-05-01T14:41:48.029196",
     "status": "completed"
    },
    "tags": []
   },
   "outputs": [
    {
     "data": {
      "application/javascript": [
       "parent.postMessage({\"jupyterEvent\": \"custom.exercise_interaction\", \"data\": {\"outcomeType\": 1, \"valueTowardsCompletion\": 0.14285714285714285, \"interactionType\": 1, \"questionType\": 1, \"questionId\": \"4_CenteredPrice\", \"learnToolsVersion\": \"0.3.4\", \"failureMessage\": \"\", \"exceptionClass\": \"\", \"trace\": \"\"}}, \"*\")"
      ],
      "text/plain": [
       "<IPython.core.display.Javascript object>"
      ]
     },
     "metadata": {},
     "output_type": "display_data"
    },
    {
     "data": {
      "text/markdown": [
       "<span style=\"color:#33cc33\">Correct</span>"
      ],
      "text/plain": [
       "Correct"
      ]
     },
     "metadata": {},
     "output_type": "display_data"
    }
   ],
   "source": [
    "centered_price = reviews.price-reviews.price.mean()\n",
    "\n",
    "# Check your answer\n",
    "q4.check()"
   ]
  },
  {
   "cell_type": "code",
   "execution_count": 9,
   "id": "6e41fd19",
   "metadata": {
    "execution": {
     "iopub.execute_input": "2022-05-01T14:41:48.132602Z",
     "iopub.status.busy": "2022-05-01T14:41:48.132002Z",
     "iopub.status.idle": "2022-05-01T14:41:48.135622Z",
     "shell.execute_reply": "2022-05-01T14:41:48.135049Z"
    },
    "papermill": {
     "duration": 0.03612,
     "end_time": "2022-05-01T14:41:48.137621",
     "exception": false,
     "start_time": "2022-05-01T14:41:48.101501",
     "status": "completed"
    },
    "tags": []
   },
   "outputs": [],
   "source": [
    "#q4.hint()\n",
    "#q4.solution()"
   ]
  },
  {
   "cell_type": "markdown",
   "id": "d5beb89e",
   "metadata": {
    "papermill": {
     "duration": 0.029109,
     "end_time": "2022-05-01T14:41:48.196000",
     "exception": false,
     "start_time": "2022-05-01T14:41:48.166891",
     "status": "completed"
    },
    "tags": []
   },
   "source": [
    "## 5.\n",
    "I'm an economical wine buyer. Which wine is the \"best bargain\"? Create a variable `bargain_wine` with the title of the wine with the highest points-to-price ratio in the dataset."
   ]
  },
  {
   "cell_type": "code",
   "execution_count": 10,
   "id": "d0a43d4b",
   "metadata": {
    "execution": {
     "iopub.execute_input": "2022-05-01T14:41:48.255178Z",
     "iopub.status.busy": "2022-05-01T14:41:48.254641Z",
     "iopub.status.idle": "2022-05-01T14:41:48.268061Z",
     "shell.execute_reply": "2022-05-01T14:41:48.267230Z"
    },
    "papermill": {
     "duration": 0.045539,
     "end_time": "2022-05-01T14:41:48.270244",
     "exception": false,
     "start_time": "2022-05-01T14:41:48.224705",
     "status": "completed"
    },
    "tags": []
   },
   "outputs": [
    {
     "data": {
      "application/javascript": [
       "parent.postMessage({\"jupyterEvent\": \"custom.exercise_interaction\", \"data\": {\"outcomeType\": 1, \"valueTowardsCompletion\": 0.14285714285714285, \"interactionType\": 1, \"questionType\": 2, \"questionId\": \"5_BargainWine\", \"learnToolsVersion\": \"0.3.4\", \"failureMessage\": \"\", \"exceptionClass\": \"\", \"trace\": \"\"}}, \"*\")"
      ],
      "text/plain": [
       "<IPython.core.display.Javascript object>"
      ]
     },
     "metadata": {},
     "output_type": "display_data"
    },
    {
     "data": {
      "text/markdown": [
       "<span style=\"color:#33cc33\">Correct</span>"
      ],
      "text/plain": [
       "Correct"
      ]
     },
     "metadata": {},
     "output_type": "display_data"
    }
   ],
   "source": [
    "bargain_idx = (reviews.points / reviews.price).idxmax()\n",
    "bargain_wine = reviews.loc[bargain_idx, 'title']\n",
    "bargain_wine \n",
    "\n",
    "\n",
    "# Check your answer\n",
    "q5.check()"
   ]
  },
  {
   "cell_type": "code",
   "execution_count": 11,
   "id": "d2413533",
   "metadata": {
    "execution": {
     "iopub.execute_input": "2022-05-01T14:41:48.333310Z",
     "iopub.status.busy": "2022-05-01T14:41:48.332987Z",
     "iopub.status.idle": "2022-05-01T14:41:48.336669Z",
     "shell.execute_reply": "2022-05-01T14:41:48.335703Z"
    },
    "papermill": {
     "duration": 0.037309,
     "end_time": "2022-05-01T14:41:48.338850",
     "exception": false,
     "start_time": "2022-05-01T14:41:48.301541",
     "status": "completed"
    },
    "tags": []
   },
   "outputs": [],
   "source": [
    "#q5.hint()\n",
    "#q5.solution()"
   ]
  },
  {
   "cell_type": "markdown",
   "id": "b0f546d0",
   "metadata": {
    "papermill": {
     "duration": 0.031383,
     "end_time": "2022-05-01T14:41:48.400337",
     "exception": false,
     "start_time": "2022-05-01T14:41:48.368954",
     "status": "completed"
    },
    "tags": []
   },
   "source": [
    "## 6.\n",
    "There are only so many words you can use when describing a bottle of wine. Is a wine more likely to be \"tropical\" or \"fruity\"? Create a Series `descriptor_counts` counting how many times each of these two words appears in the `description` column in the dataset. (For simplicity, let's ignore the capitalized versions of these words.)"
   ]
  },
  {
   "cell_type": "code",
   "execution_count": 12,
   "id": "7fc7af7c",
   "metadata": {
    "execution": {
     "iopub.execute_input": "2022-05-01T14:41:48.462510Z",
     "iopub.status.busy": "2022-05-01T14:41:48.461956Z",
     "iopub.status.idle": "2022-05-01T14:41:48.617712Z",
     "shell.execute_reply": "2022-05-01T14:41:48.617049Z"
    },
    "papermill": {
     "duration": 0.189434,
     "end_time": "2022-05-01T14:41:48.619731",
     "exception": false,
     "start_time": "2022-05-01T14:41:48.430297",
     "status": "completed"
    },
    "tags": []
   },
   "outputs": [
    {
     "data": {
      "application/javascript": [
       "parent.postMessage({\"jupyterEvent\": \"custom.exercise_interaction\", \"data\": {\"outcomeType\": 1, \"valueTowardsCompletion\": 0.14285714285714285, \"interactionType\": 1, \"questionType\": 1, \"questionId\": \"6_DescriptorCounts\", \"learnToolsVersion\": \"0.3.4\", \"failureMessage\": \"\", \"exceptionClass\": \"\", \"trace\": \"\"}}, \"*\")"
      ],
      "text/plain": [
       "<IPython.core.display.Javascript object>"
      ]
     },
     "metadata": {},
     "output_type": "display_data"
    },
    {
     "data": {
      "text/markdown": [
       "<span style=\"color:#33cc33\">Correct</span>"
      ],
      "text/plain": [
       "Correct"
      ]
     },
     "metadata": {},
     "output_type": "display_data"
    }
   ],
   "source": [
    "n_trop = reviews.description.map(lambda desc: \"tropical\" in desc).sum()\n",
    "n_fruity = reviews.description.map(lambda desc: \"fruity\" in desc).sum()\n",
    "descriptor_counts = pd.Series([n_trop, n_fruity], index=['tropical', 'fruity'])\n",
    "\n",
    "descriptor_counts\n",
    "# Check your answer\n",
    "q6.check()"
   ]
  },
  {
   "cell_type": "code",
   "execution_count": 13,
   "id": "3937e81d",
   "metadata": {
    "execution": {
     "iopub.execute_input": "2022-05-01T14:41:48.683961Z",
     "iopub.status.busy": "2022-05-01T14:41:48.683515Z",
     "iopub.status.idle": "2022-05-01T14:41:48.686804Z",
     "shell.execute_reply": "2022-05-01T14:41:48.686180Z"
    },
    "papermill": {
     "duration": 0.03786,
     "end_time": "2022-05-01T14:41:48.688631",
     "exception": false,
     "start_time": "2022-05-01T14:41:48.650771",
     "status": "completed"
    },
    "tags": []
   },
   "outputs": [],
   "source": [
    "#q6.hint()\n",
    "#q6.solution()"
   ]
  },
  {
   "cell_type": "markdown",
   "id": "7b345264",
   "metadata": {
    "papermill": {
     "duration": 0.031412,
     "end_time": "2022-05-01T14:41:48.751263",
     "exception": false,
     "start_time": "2022-05-01T14:41:48.719851",
     "status": "completed"
    },
    "tags": []
   },
   "source": [
    "## 7.\n",
    "We'd like to host these wine reviews on our website, but a rating system ranging from 80 to 100 points is too hard to understand - we'd like to translate them into simple star ratings. A score of 95 or higher counts as 3 stars, a score of at least 85 but less than 95 is 2 stars. Any other score is 1 star.\n",
    "\n",
    "Also, the Canadian Vintners Association bought a lot of ads on the site, so any wines from Canada should automatically get 3 stars, regardless of points.\n",
    "\n",
    "Create a series `star_ratings` with the number of stars corresponding to each review in the dataset."
   ]
  },
  {
   "cell_type": "code",
   "execution_count": 14,
   "id": "a48bb9ad",
   "metadata": {
    "execution": {
     "iopub.execute_input": "2022-05-01T14:41:48.817095Z",
     "iopub.status.busy": "2022-05-01T14:41:48.816639Z",
     "iopub.status.idle": "2022-05-01T14:41:48.826055Z",
     "shell.execute_reply": "2022-05-01T14:41:48.825153Z"
    },
    "papermill": {
     "duration": 0.044767,
     "end_time": "2022-05-01T14:41:48.828208",
     "exception": false,
     "start_time": "2022-05-01T14:41:48.783441",
     "status": "completed"
    },
    "tags": []
   },
   "outputs": [
    {
     "data": {
      "application/javascript": [
       "parent.postMessage({\"jupyterEvent\": \"custom.exercise_interaction\", \"data\": {\"outcomeType\": 4, \"interactionType\": 1, \"questionType\": 1, \"questionId\": \"7_StarRatings\", \"learnToolsVersion\": \"0.3.4\", \"valueTowardsCompletion\": 0.0, \"failureMessage\": \"\", \"exceptionClass\": \"\", \"trace\": \"\"}}, \"*\")"
      ],
      "text/plain": [
       "<IPython.core.display.Javascript object>"
      ]
     },
     "metadata": {},
     "output_type": "display_data"
    },
    {
     "data": {
      "text/markdown": [
       "<span style=\"color:#ccaa33\">Check:</span> When you've updated the starter code, `check()` will tell you whether your code is correct. Remember, you must create the following variable: `star_ratings`"
      ],
      "text/plain": [
       "Check: When you've updated the starter code, `check()` will tell you whether your code is correct. Remember, you must create the following variable: `star_ratings`"
      ]
     },
     "metadata": {},
     "output_type": "display_data"
    }
   ],
   "source": [
    "def star (row):\n",
    "    if row.point>=95:\n",
    "        return 3\n",
    "    elif row.point>=85:\n",
    "        return 2\n",
    "    elif row.country=='Canada':\n",
    "        return 3\n",
    "    else:\n",
    "        return 1\n",
    "    star_ratings = reviews.row(star, axis='columns')\n",
    "\n",
    "# Check your answer\n",
    "q7.check()"
   ]
  },
  {
   "cell_type": "code",
   "execution_count": 15,
   "id": "94df1513",
   "metadata": {
    "execution": {
     "iopub.execute_input": "2022-05-01T14:41:48.896213Z",
     "iopub.status.busy": "2022-05-01T14:41:48.895902Z",
     "iopub.status.idle": "2022-05-01T14:41:48.899324Z",
     "shell.execute_reply": "2022-05-01T14:41:48.898371Z"
    },
    "papermill": {
     "duration": 0.040657,
     "end_time": "2022-05-01T14:41:48.901314",
     "exception": false,
     "start_time": "2022-05-01T14:41:48.860657",
     "status": "completed"
    },
    "tags": []
   },
   "outputs": [],
   "source": [
    "#q7.hint()\n",
    "#q7.solution()"
   ]
  },
  {
   "cell_type": "markdown",
   "id": "73cb98ea",
   "metadata": {
    "papermill": {
     "duration": 0.033378,
     "end_time": "2022-05-01T14:41:48.967649",
     "exception": false,
     "start_time": "2022-05-01T14:41:48.934271",
     "status": "completed"
    },
    "tags": []
   },
   "source": [
    "# Keep going\n",
    "Continue to **[grouping and sorting](https://www.kaggle.com/residentmario/grouping-and-sorting)**."
   ]
  },
  {
   "cell_type": "markdown",
   "id": "cc106fd0",
   "metadata": {
    "papermill": {
     "duration": 0.031925,
     "end_time": "2022-05-01T14:41:49.032247",
     "exception": false,
     "start_time": "2022-05-01T14:41:49.000322",
     "status": "completed"
    },
    "tags": []
   },
   "source": [
    "---\n",
    "\n",
    "\n",
    "\n",
    "\n",
    "*Have questions or comments? Visit the [course discussion forum](https://www.kaggle.com/learn/pandas/discussion) to chat with other learners.*"
   ]
  }
 ],
 "metadata": {
  "kernelspec": {
   "display_name": "Python 3",
   "language": "python",
   "name": "python3"
  },
  "language_info": {
   "codemirror_mode": {
    "name": "ipython",
    "version": 3
   },
   "file_extension": ".py",
   "mimetype": "text/x-python",
   "name": "python",
   "nbconvert_exporter": "python",
   "pygments_lexer": "ipython3",
   "version": "3.7.12"
  },
  "papermill": {
   "default_parameters": {},
   "duration": 21.235103,
   "end_time": "2022-05-01T14:41:49.789425",
   "environment_variables": {},
   "exception": null,
   "input_path": "__notebook__.ipynb",
   "output_path": "__notebook__.ipynb",
   "parameters": {},
   "start_time": "2022-05-01T14:41:28.554322",
   "version": "2.3.4"
  }
 },
 "nbformat": 4,
 "nbformat_minor": 5
}
